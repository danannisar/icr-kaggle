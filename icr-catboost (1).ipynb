{
 "cells": [
  {
   "cell_type": "markdown",
   "id": "9f5caab1",
   "metadata": {
    "papermill": {
     "duration": 0.022522,
     "end_time": "2023-08-09T15:48:17.777147",
     "exception": false,
     "start_time": "2023-08-09T15:48:17.754625",
     "status": "completed"
    },
    "tags": []
   },
   "source": [
    "# ICR - Identifying Age-Related Conditions\n",
    "\n",
    "* [Data](#section-data)\n",
    "    * [Data train](#subsection-train-greeks)\n",
    "* [Fill Missing Value using KNN imputer](#section-fms)\n",
    "* [Feature Selection](#section-fs)\n",
    "    * [Iteration - 1](#subsection-it1)\n",
    "    * [Iteration - 2](#subsection-it2)\n",
    "* [Modelling](#section-stf)\n",
    "* [Modelling](#section-modelling)\n",
    "    * [Modelling - 1](#subsection-m1)\n",
    "    * [Modelling - 2](#subsection-m2)"
   ]
  },
  {
   "cell_type": "markdown",
   "id": "4bb3e288",
   "metadata": {
    "papermill": {
     "duration": 0.021385,
     "end_time": "2023-08-09T15:48:17.820850",
     "exception": false,
     "start_time": "2023-08-09T15:48:17.799465",
     "status": "completed"
    },
    "tags": []
   },
   "source": [
    "Problem :\n",
    "* imbalanced data -> using metric balanced log loss\n",
    "* missing values -> knn imputer \n",
    "* feature selection \n",
    "   * correlation ratio for numerical features\n",
    "   * Binning = numerical values -> categorical features\n",
    "   * CramersV for categorical features\n",
    "* Classification -> tensor flow decision forest\n",
    "   * Random Forest Model\n",
    "   * Gradient Boosted Trees Model\n",
    "\n",
    "  "
   ]
  },
  {
   "cell_type": "code",
   "execution_count": 1,
   "id": "fb4893d1",
   "metadata": {
    "execution": {
     "iopub.execute_input": "2023-08-09T15:48:17.866537Z",
     "iopub.status.busy": "2023-08-09T15:48:17.866033Z",
     "iopub.status.idle": "2023-08-09T15:48:17.882822Z",
     "shell.execute_reply": "2023-08-09T15:48:17.881726Z"
    },
    "papermill": {
     "duration": 0.042762,
     "end_time": "2023-08-09T15:48:17.885362",
     "exception": false,
     "start_time": "2023-08-09T15:48:17.842600",
     "status": "completed"
    },
    "tags": []
   },
   "outputs": [
    {
     "name": "stdout",
     "output_type": "stream",
     "text": [
      "/kaggle/input/icr-identify-age-related-conditions/sample_submission.csv\n",
      "/kaggle/input/icr-identify-age-related-conditions/greeks.csv\n",
      "/kaggle/input/icr-identify-age-related-conditions/train.csv\n",
      "/kaggle/input/icr-identify-age-related-conditions/test.csv\n"
     ]
    }
   ],
   "source": [
    "# Input data files are available in the read-only \"../input/\" directory\n",
    "# For example, running this (by clicking run or pressing Shift+Enter) will list all files under the input directory\n",
    "\n",
    "import os\n",
    "for dirname, _, filenames in os.walk('/kaggle/input'):\n",
    "    for filename in filenames:\n",
    "        print(os.path.join(dirname, filename))\n",
    "\n",
    "# You can write up to 20GB to the current directory (/kaggle/working/) that gets preserved as output when you create a version using \"Save & Run All\" \n",
    "# You can also write temporary files to /kaggle/temp/, but they won't be saved outside of the current session"
   ]
  },
  {
   "cell_type": "code",
   "execution_count": 2,
   "id": "35fd9527",
   "metadata": {
    "execution": {
     "iopub.execute_input": "2023-08-09T15:48:17.931737Z",
     "iopub.status.busy": "2023-08-09T15:48:17.931356Z",
     "iopub.status.idle": "2023-08-09T15:48:19.335477Z",
     "shell.execute_reply": "2023-08-09T15:48:19.334195Z"
    },
    "papermill": {
     "duration": 1.430393,
     "end_time": "2023-08-09T15:48:19.338399",
     "exception": false,
     "start_time": "2023-08-09T15:48:17.908006",
     "status": "completed"
    },
    "tags": []
   },
   "outputs": [
    {
     "name": "stderr",
     "output_type": "stream",
     "text": [
      "/opt/conda/lib/python3.10/site-packages/scipy/__init__.py:146: UserWarning: A NumPy version >=1.16.5 and <1.23.0 is required for this version of SciPy (detected version 1.23.5\n",
      "  warnings.warn(f\"A NumPy version >={np_minversion} and <{np_maxversion}\"\n"
     ]
    }
   ],
   "source": [
    "# This Python 3 environment comes with many helpful analytics libraries installed\n",
    "# It is defined by the kaggle/python Docker image: https://github.com/kaggle/docker-python\n",
    "# For example, here's several helpful packages to load\n",
    "\n",
    "import numpy as np # linear algebra\n",
    "import pandas as pd # data processing, CSV file I/O (e.g. pd.read_csv)\n",
    "import seaborn as sns\n",
    "from matplotlib import pyplot as plt\n",
    "import matplotlib.style as style"
   ]
  },
  {
   "cell_type": "markdown",
   "id": "2204d38e",
   "metadata": {
    "papermill": {
     "duration": 0.02174,
     "end_time": "2023-08-09T15:48:19.382197",
     "exception": false,
     "start_time": "2023-08-09T15:48:19.360457",
     "status": "completed"
    },
    "tags": []
   },
   "source": [
    "<a id=\"section-data\"></a>\n",
    "## Data"
   ]
  },
  {
   "cell_type": "markdown",
   "id": "6bf209e8",
   "metadata": {
    "papermill": {
     "duration": 0.023227,
     "end_time": "2023-08-09T15:48:19.428314",
     "exception": false,
     "start_time": "2023-08-09T15:48:19.405087",
     "status": "completed"
    },
    "tags": []
   },
   "source": [
    "#### Objective : The goal is to predict if a person has any of three medical conditions. \n",
    "* Create a model trained on measurements of health characteristics. \n",
    "* Observe the relationship between measurements of certain characteristics and potential patient conditions."
   ]
  },
  {
   "cell_type": "markdown",
   "id": "e7ee5487",
   "metadata": {
    "papermill": {
     "duration": 0.022201,
     "end_time": "2023-08-09T15:48:19.472946",
     "exception": false,
     "start_time": "2023-08-09T15:48:19.450745",
     "status": "completed"
    },
    "tags": []
   },
   "source": [
    "#### Target : \n",
    "* To predict  if the person has one or more of any of the three medical conditions (Class 1), or \n",
    "* none of the three medical conditions (Class 0). "
   ]
  },
  {
   "cell_type": "markdown",
   "id": "73a78c76",
   "metadata": {
    "papermill": {
     "duration": 0.021832,
     "end_time": "2023-08-09T15:48:19.517569",
     "exception": false,
     "start_time": "2023-08-09T15:48:19.495737",
     "status": "completed"
    },
    "tags": []
   },
   "source": [
    "<a id=\"subsection-train-greeks\"></a>\n",
    "### Data train"
   ]
  },
  {
   "cell_type": "code",
   "execution_count": 3,
   "id": "0155e0ac",
   "metadata": {
    "execution": {
     "iopub.execute_input": "2023-08-09T15:48:19.565950Z",
     "iopub.status.busy": "2023-08-09T15:48:19.565535Z",
     "iopub.status.idle": "2023-08-09T15:48:19.629552Z",
     "shell.execute_reply": "2023-08-09T15:48:19.627955Z"
    },
    "papermill": {
     "duration": 0.092314,
     "end_time": "2023-08-09T15:48:19.632371",
     "exception": false,
     "start_time": "2023-08-09T15:48:19.540057",
     "status": "completed"
    },
    "tags": []
   },
   "outputs": [],
   "source": [
    "train = pd.read_csv('/kaggle/input/icr-identify-age-related-conditions/train.csv')\n",
    "test = pd.read_csv('/kaggle/input/icr-identify-age-related-conditions/test.csv')\n",
    "greeks = pd.read_csv('/kaggle/input/icr-identify-age-related-conditions/greeks.csv')\n",
    "sample_submission = pd.read_csv('/kaggle/input/icr-identify-age-related-conditions/sample_submission.csv')"
   ]
  },
  {
   "cell_type": "markdown",
   "id": "f1199823",
   "metadata": {
    "papermill": {
     "duration": 0.022617,
     "end_time": "2023-08-09T15:48:19.678030",
     "exception": false,
     "start_time": "2023-08-09T15:48:19.655413",
     "status": "completed"
    },
    "tags": []
   },
   "source": [
    "#### The training set.\n",
    "* Id Unique identifier for each observation.\n",
    "* AB-GL Fifty-six anonymized health characteristics. All are numeric except for EJ, which is categorical.\n",
    "* Class A binary target: 1 indicates the subject has been diagnosed with one of the three conditions, 0 indicates they have not."
   ]
  },
  {
   "cell_type": "code",
   "execution_count": 4,
   "id": "b07b37c5",
   "metadata": {
    "execution": {
     "iopub.execute_input": "2023-08-09T15:48:19.725595Z",
     "iopub.status.busy": "2023-08-09T15:48:19.724744Z",
     "iopub.status.idle": "2023-08-09T15:48:19.768561Z",
     "shell.execute_reply": "2023-08-09T15:48:19.767227Z"
    },
    "papermill": {
     "duration": 0.072106,
     "end_time": "2023-08-09T15:48:19.772507",
     "exception": false,
     "start_time": "2023-08-09T15:48:19.700401",
     "status": "completed"
    },
    "tags": []
   },
   "outputs": [
    {
     "data": {
      "text/html": [
       "<div>\n",
       "<style scoped>\n",
       "    .dataframe tbody tr th:only-of-type {\n",
       "        vertical-align: middle;\n",
       "    }\n",
       "\n",
       "    .dataframe tbody tr th {\n",
       "        vertical-align: top;\n",
       "    }\n",
       "\n",
       "    .dataframe thead th {\n",
       "        text-align: right;\n",
       "    }\n",
       "</style>\n",
       "<table border=\"1\" class=\"dataframe\">\n",
       "  <thead>\n",
       "    <tr style=\"text-align: right;\">\n",
       "      <th></th>\n",
       "      <th>Id</th>\n",
       "      <th>AB</th>\n",
       "      <th>AF</th>\n",
       "      <th>AH</th>\n",
       "      <th>AM</th>\n",
       "      <th>AR</th>\n",
       "      <th>AX</th>\n",
       "      <th>AY</th>\n",
       "      <th>AZ</th>\n",
       "      <th>BC</th>\n",
       "      <th>...</th>\n",
       "      <th>FL</th>\n",
       "      <th>FR</th>\n",
       "      <th>FS</th>\n",
       "      <th>GB</th>\n",
       "      <th>GE</th>\n",
       "      <th>GF</th>\n",
       "      <th>GH</th>\n",
       "      <th>GI</th>\n",
       "      <th>GL</th>\n",
       "      <th>Class</th>\n",
       "    </tr>\n",
       "  </thead>\n",
       "  <tbody>\n",
       "    <tr>\n",
       "      <th>0</th>\n",
       "      <td>000ff2bfdfe9</td>\n",
       "      <td>0.209377</td>\n",
       "      <td>3109.03329</td>\n",
       "      <td>85.200147</td>\n",
       "      <td>22.394407</td>\n",
       "      <td>8.138688</td>\n",
       "      <td>0.699861</td>\n",
       "      <td>0.025578</td>\n",
       "      <td>9.812214</td>\n",
       "      <td>5.555634</td>\n",
       "      <td>...</td>\n",
       "      <td>7.298162</td>\n",
       "      <td>1.73855</td>\n",
       "      <td>0.094822</td>\n",
       "      <td>11.339138</td>\n",
       "      <td>72.611063</td>\n",
       "      <td>2003.810319</td>\n",
       "      <td>22.136229</td>\n",
       "      <td>69.834944</td>\n",
       "      <td>0.120343</td>\n",
       "      <td>1</td>\n",
       "    </tr>\n",
       "    <tr>\n",
       "      <th>1</th>\n",
       "      <td>007255e47698</td>\n",
       "      <td>0.145282</td>\n",
       "      <td>978.76416</td>\n",
       "      <td>85.200147</td>\n",
       "      <td>36.968889</td>\n",
       "      <td>8.138688</td>\n",
       "      <td>3.632190</td>\n",
       "      <td>0.025578</td>\n",
       "      <td>13.517790</td>\n",
       "      <td>1.229900</td>\n",
       "      <td>...</td>\n",
       "      <td>0.173229</td>\n",
       "      <td>0.49706</td>\n",
       "      <td>0.568932</td>\n",
       "      <td>9.292698</td>\n",
       "      <td>72.611063</td>\n",
       "      <td>27981.562750</td>\n",
       "      <td>29.135430</td>\n",
       "      <td>32.131996</td>\n",
       "      <td>21.978000</td>\n",
       "      <td>0</td>\n",
       "    </tr>\n",
       "    <tr>\n",
       "      <th>2</th>\n",
       "      <td>013f2bd269f5</td>\n",
       "      <td>0.470030</td>\n",
       "      <td>2635.10654</td>\n",
       "      <td>85.200147</td>\n",
       "      <td>32.360553</td>\n",
       "      <td>8.138688</td>\n",
       "      <td>6.732840</td>\n",
       "      <td>0.025578</td>\n",
       "      <td>12.824570</td>\n",
       "      <td>1.229900</td>\n",
       "      <td>...</td>\n",
       "      <td>7.709560</td>\n",
       "      <td>0.97556</td>\n",
       "      <td>1.198821</td>\n",
       "      <td>37.077772</td>\n",
       "      <td>88.609437</td>\n",
       "      <td>13676.957810</td>\n",
       "      <td>28.022851</td>\n",
       "      <td>35.192676</td>\n",
       "      <td>0.196941</td>\n",
       "      <td>0</td>\n",
       "    </tr>\n",
       "    <tr>\n",
       "      <th>3</th>\n",
       "      <td>043ac50845d5</td>\n",
       "      <td>0.252107</td>\n",
       "      <td>3819.65177</td>\n",
       "      <td>120.201618</td>\n",
       "      <td>77.112203</td>\n",
       "      <td>8.138688</td>\n",
       "      <td>3.685344</td>\n",
       "      <td>0.025578</td>\n",
       "      <td>11.053708</td>\n",
       "      <td>1.229900</td>\n",
       "      <td>...</td>\n",
       "      <td>6.122162</td>\n",
       "      <td>0.49706</td>\n",
       "      <td>0.284466</td>\n",
       "      <td>18.529584</td>\n",
       "      <td>82.416803</td>\n",
       "      <td>2094.262452</td>\n",
       "      <td>39.948656</td>\n",
       "      <td>90.493248</td>\n",
       "      <td>0.155829</td>\n",
       "      <td>0</td>\n",
       "    </tr>\n",
       "    <tr>\n",
       "      <th>4</th>\n",
       "      <td>044fb8a146ec</td>\n",
       "      <td>0.380297</td>\n",
       "      <td>3733.04844</td>\n",
       "      <td>85.200147</td>\n",
       "      <td>14.103738</td>\n",
       "      <td>8.138688</td>\n",
       "      <td>3.942255</td>\n",
       "      <td>0.054810</td>\n",
       "      <td>3.396778</td>\n",
       "      <td>102.151980</td>\n",
       "      <td>...</td>\n",
       "      <td>8.153058</td>\n",
       "      <td>48.50134</td>\n",
       "      <td>0.121914</td>\n",
       "      <td>16.408728</td>\n",
       "      <td>146.109943</td>\n",
       "      <td>8524.370502</td>\n",
       "      <td>45.381316</td>\n",
       "      <td>36.262628</td>\n",
       "      <td>0.096614</td>\n",
       "      <td>1</td>\n",
       "    </tr>\n",
       "  </tbody>\n",
       "</table>\n",
       "<p>5 rows × 58 columns</p>\n",
       "</div>"
      ],
      "text/plain": [
       "             Id        AB          AF          AH         AM        AR  \\\n",
       "0  000ff2bfdfe9  0.209377  3109.03329   85.200147  22.394407  8.138688   \n",
       "1  007255e47698  0.145282   978.76416   85.200147  36.968889  8.138688   \n",
       "2  013f2bd269f5  0.470030  2635.10654   85.200147  32.360553  8.138688   \n",
       "3  043ac50845d5  0.252107  3819.65177  120.201618  77.112203  8.138688   \n",
       "4  044fb8a146ec  0.380297  3733.04844   85.200147  14.103738  8.138688   \n",
       "\n",
       "         AX        AY         AZ          BC  ...        FL        FR  \\\n",
       "0  0.699861  0.025578   9.812214    5.555634  ...  7.298162   1.73855   \n",
       "1  3.632190  0.025578  13.517790    1.229900  ...  0.173229   0.49706   \n",
       "2  6.732840  0.025578  12.824570    1.229900  ...  7.709560   0.97556   \n",
       "3  3.685344  0.025578  11.053708    1.229900  ...  6.122162   0.49706   \n",
       "4  3.942255  0.054810   3.396778  102.151980  ...  8.153058  48.50134   \n",
       "\n",
       "         FS         GB          GE            GF         GH         GI  \\\n",
       "0  0.094822  11.339138   72.611063   2003.810319  22.136229  69.834944   \n",
       "1  0.568932   9.292698   72.611063  27981.562750  29.135430  32.131996   \n",
       "2  1.198821  37.077772   88.609437  13676.957810  28.022851  35.192676   \n",
       "3  0.284466  18.529584   82.416803   2094.262452  39.948656  90.493248   \n",
       "4  0.121914  16.408728  146.109943   8524.370502  45.381316  36.262628   \n",
       "\n",
       "          GL  Class  \n",
       "0   0.120343      1  \n",
       "1  21.978000      0  \n",
       "2   0.196941      0  \n",
       "3   0.155829      0  \n",
       "4   0.096614      1  \n",
       "\n",
       "[5 rows x 58 columns]"
      ]
     },
     "execution_count": 4,
     "metadata": {},
     "output_type": "execute_result"
    }
   ],
   "source": [
    "train.head()"
   ]
  },
  {
   "cell_type": "code",
   "execution_count": 5,
   "id": "78be271d",
   "metadata": {
    "execution": {
     "iopub.execute_input": "2023-08-09T15:48:19.823090Z",
     "iopub.status.busy": "2023-08-09T15:48:19.821981Z",
     "iopub.status.idle": "2023-08-09T15:48:19.829190Z",
     "shell.execute_reply": "2023-08-09T15:48:19.828097Z"
    },
    "papermill": {
     "duration": 0.035205,
     "end_time": "2023-08-09T15:48:19.831347",
     "exception": false,
     "start_time": "2023-08-09T15:48:19.796142",
     "status": "completed"
    },
    "tags": []
   },
   "outputs": [
    {
     "data": {
      "text/plain": [
       "617"
      ]
     },
     "execution_count": 5,
     "metadata": {},
     "output_type": "execute_result"
    }
   ],
   "source": [
    "len(train)"
   ]
  },
  {
   "cell_type": "code",
   "execution_count": 6,
   "id": "d47bcd17",
   "metadata": {
    "execution": {
     "iopub.execute_input": "2023-08-09T15:48:19.879962Z",
     "iopub.status.busy": "2023-08-09T15:48:19.878663Z",
     "iopub.status.idle": "2023-08-09T15:48:19.907610Z",
     "shell.execute_reply": "2023-08-09T15:48:19.906456Z"
    },
    "papermill": {
     "duration": 0.05618,
     "end_time": "2023-08-09T15:48:19.910645",
     "exception": false,
     "start_time": "2023-08-09T15:48:19.854465",
     "status": "completed"
    },
    "tags": []
   },
   "outputs": [
    {
     "name": "stdout",
     "output_type": "stream",
     "text": [
      "<class 'pandas.core.frame.DataFrame'>\n",
      "RangeIndex: 617 entries, 0 to 616\n",
      "Data columns (total 58 columns):\n",
      " #   Column  Non-Null Count  Dtype  \n",
      "---  ------  --------------  -----  \n",
      " 0   Id      617 non-null    object \n",
      " 1   AB      617 non-null    float64\n",
      " 2   AF      617 non-null    float64\n",
      " 3   AH      617 non-null    float64\n",
      " 4   AM      617 non-null    float64\n",
      " 5   AR      617 non-null    float64\n",
      " 6   AX      617 non-null    float64\n",
      " 7   AY      617 non-null    float64\n",
      " 8   AZ      617 non-null    float64\n",
      " 9   BC      617 non-null    float64\n",
      " 10  BD      617 non-null    float64\n",
      " 11  BN      617 non-null    float64\n",
      " 12  BP      617 non-null    float64\n",
      " 13  BQ      557 non-null    float64\n",
      " 14  BR      617 non-null    float64\n",
      " 15  BZ      617 non-null    float64\n",
      " 16  CB      615 non-null    float64\n",
      " 17  CC      614 non-null    float64\n",
      " 18  CD      617 non-null    float64\n",
      " 19  CF      617 non-null    float64\n",
      " 20  CH      617 non-null    float64\n",
      " 21  CL      617 non-null    float64\n",
      " 22  CR      617 non-null    float64\n",
      " 23  CS      617 non-null    float64\n",
      " 24  CU      617 non-null    float64\n",
      " 25  CW      617 non-null    float64\n",
      " 26  DA      617 non-null    float64\n",
      " 27  DE      617 non-null    float64\n",
      " 28  DF      617 non-null    float64\n",
      " 29  DH      617 non-null    float64\n",
      " 30  DI      617 non-null    float64\n",
      " 31  DL      617 non-null    float64\n",
      " 32  DN      617 non-null    float64\n",
      " 33  DU      616 non-null    float64\n",
      " 34  DV      617 non-null    float64\n",
      " 35  DY      617 non-null    float64\n",
      " 36  EB      617 non-null    float64\n",
      " 37  EE      617 non-null    float64\n",
      " 38  EG      617 non-null    float64\n",
      " 39  EH      617 non-null    float64\n",
      " 40  EJ      617 non-null    object \n",
      " 41  EL      557 non-null    float64\n",
      " 42  EP      617 non-null    float64\n",
      " 43  EU      617 non-null    float64\n",
      " 44  FC      616 non-null    float64\n",
      " 45  FD      617 non-null    float64\n",
      " 46  FE      617 non-null    float64\n",
      " 47  FI      617 non-null    float64\n",
      " 48  FL      616 non-null    float64\n",
      " 49  FR      617 non-null    float64\n",
      " 50  FS      615 non-null    float64\n",
      " 51  GB      617 non-null    float64\n",
      " 52  GE      617 non-null    float64\n",
      " 53  GF      617 non-null    float64\n",
      " 54  GH      617 non-null    float64\n",
      " 55  GI      617 non-null    float64\n",
      " 56  GL      616 non-null    float64\n",
      " 57  Class   617 non-null    int64  \n",
      "dtypes: float64(55), int64(1), object(2)\n",
      "memory usage: 279.7+ KB\n"
     ]
    }
   ],
   "source": [
    "train.info()"
   ]
  },
  {
   "cell_type": "code",
   "execution_count": 7,
   "id": "cd5a0113",
   "metadata": {
    "execution": {
     "iopub.execute_input": "2023-08-09T15:48:19.959254Z",
     "iopub.status.busy": "2023-08-09T15:48:19.957999Z",
     "iopub.status.idle": "2023-08-09T15:48:20.268832Z",
     "shell.execute_reply": "2023-08-09T15:48:20.267557Z"
    },
    "papermill": {
     "duration": 0.337979,
     "end_time": "2023-08-09T15:48:20.271352",
     "exception": false,
     "start_time": "2023-08-09T15:48:19.933373",
     "status": "completed"
    },
    "tags": []
   },
   "outputs": [
    {
     "data": {
      "image/png": "[encoded data removed]",
      "text/plain": [
       "<Figure size 800x400 with 1 Axes>"
      ]
     },
     "metadata": {},
     "output_type": "display_data"
    },
    {
     "data": {
      "text/plain": [
       "0    509\n",
       "1    108\n",
       "Name: Class, dtype: int64"
      ]
     },
     "execution_count": 7,
     "metadata": {},
     "output_type": "execute_result"
    }
   ],
   "source": [
    "# Class\n",
    "\n",
    "plt.figure(figsize=(8,4))\n",
    "total = float(len(train['Class']))\n",
    "ax = sns.countplot(x='Class', data=train)\n",
    "for p in ax.patches:\n",
    "        percentage = '{:.1f}%'.format(100 * p.get_height()/total)\n",
    "        x = p.get_x() + p.get_width()\n",
    "        y = p.get_height()\n",
    "        ax.annotate(percentage, (x, y), ha='center')\n",
    "plt.title('Class \\n (1, indicates has one or more of any of the three medical conditions; \\n0, indicates none of the three medical conditions)')\n",
    "plt.show()\n",
    "train.Class.value_counts()"
   ]
  },
  {
   "cell_type": "markdown",
   "id": "29a0ac14",
   "metadata": {
    "papermill": {
     "duration": 0.023275,
     "end_time": "2023-08-09T15:48:20.318647",
     "exception": false,
     "start_time": "2023-08-09T15:48:20.295372",
     "status": "completed"
    },
    "tags": []
   },
   "source": [
    "From chart we can see the data train is imbalanced because the fraction of class 1 is very small compared with class 0"
   ]
  },
  {
   "cell_type": "code",
   "execution_count": 8,
   "id": "2ecab0fe",
   "metadata": {
    "execution": {
     "iopub.execute_input": "2023-08-09T15:48:20.368462Z",
     "iopub.status.busy": "2023-08-09T15:48:20.368067Z",
     "iopub.status.idle": "2023-08-09T15:48:20.375244Z",
     "shell.execute_reply": "2023-08-09T15:48:20.373970Z"
    },
    "papermill": {
     "duration": 0.0353,
     "end_time": "2023-08-09T15:48:20.377873",
     "exception": false,
     "start_time": "2023-08-09T15:48:20.342573",
     "status": "completed"
    },
    "tags": []
   },
   "outputs": [
    {
     "data": {
      "text/plain": [
       "5"
      ]
     },
     "execution_count": 8,
     "metadata": {},
     "output_type": "execute_result"
    }
   ],
   "source": [
    "len(sample_submission)"
   ]
  },
  {
   "cell_type": "markdown",
   "id": "a1ab18d0",
   "metadata": {
    "papermill": {
     "duration": 0.024301,
     "end_time": "2023-08-09T15:48:20.426853",
     "exception": false,
     "start_time": "2023-08-09T15:48:20.402552",
     "status": "completed"
    },
    "tags": []
   },
   "source": [
    "<a id=\"section-fms\"></a>\n",
    "## Fill Missing Value using KNN Imputer"
   ]
  },
  {
   "cell_type": "code",
   "execution_count": 9,
   "id": "a68836ac",
   "metadata": {
    "execution": {
     "iopub.execute_input": "2023-08-09T15:48:20.477707Z",
     "iopub.status.busy": "2023-08-09T15:48:20.477270Z",
     "iopub.status.idle": "2023-08-09T15:48:20.900194Z",
     "shell.execute_reply": "2023-08-09T15:48:20.898899Z"
    },
    "papermill": {
     "duration": 0.451011,
     "end_time": "2023-08-09T15:48:20.902878",
     "exception": false,
     "start_time": "2023-08-09T15:48:20.451867",
     "status": "completed"
    },
    "tags": []
   },
   "outputs": [
    {
     "data": {
      "text/html": [
       "<div>\n",
       "<style scoped>\n",
       "    .dataframe tbody tr th:only-of-type {\n",
       "        vertical-align: middle;\n",
       "    }\n",
       "\n",
       "    .dataframe tbody tr th {\n",
       "        vertical-align: top;\n",
       "    }\n",
       "\n",
       "    .dataframe thead th {\n",
       "        text-align: right;\n",
       "    }\n",
       "</style>\n",
       "<table border=\"1\" class=\"dataframe\">\n",
       "  <thead>\n",
       "    <tr style=\"text-align: right;\">\n",
       "      <th></th>\n",
       "      <th>Total missing data</th>\n",
       "      <th>Percentage</th>\n",
       "    </tr>\n",
       "  </thead>\n",
       "  <tbody>\n",
       "    <tr>\n",
       "      <th>EL</th>\n",
       "      <td>60.0</td>\n",
       "      <td>9.724473</td>\n",
       "    </tr>\n",
       "    <tr>\n",
       "      <th>BQ</th>\n",
       "      <td>60.0</td>\n",
       "      <td>9.724473</td>\n",
       "    </tr>\n",
       "    <tr>\n",
       "      <th>CC</th>\n",
       "      <td>3.0</td>\n",
       "      <td>0.486224</td>\n",
       "    </tr>\n",
       "    <tr>\n",
       "      <th>FS</th>\n",
       "      <td>2.0</td>\n",
       "      <td>0.324149</td>\n",
       "    </tr>\n",
       "    <tr>\n",
       "      <th>CB</th>\n",
       "      <td>2.0</td>\n",
       "      <td>0.324149</td>\n",
       "    </tr>\n",
       "    <tr>\n",
       "      <th>FL</th>\n",
       "      <td>1.0</td>\n",
       "      <td>0.162075</td>\n",
       "    </tr>\n",
       "    <tr>\n",
       "      <th>FC</th>\n",
       "      <td>1.0</td>\n",
       "      <td>0.162075</td>\n",
       "    </tr>\n",
       "    <tr>\n",
       "      <th>DU</th>\n",
       "      <td>1.0</td>\n",
       "      <td>0.162075</td>\n",
       "    </tr>\n",
       "    <tr>\n",
       "      <th>GL</th>\n",
       "      <td>1.0</td>\n",
       "      <td>0.162075</td>\n",
       "    </tr>\n",
       "  </tbody>\n",
       "</table>\n",
       "</div>"
      ],
      "text/plain": [
       "    Total missing data  Percentage\n",
       "EL                60.0    9.724473\n",
       "BQ                60.0    9.724473\n",
       "CC                 3.0    0.486224\n",
       "FS                 2.0    0.324149\n",
       "CB                 2.0    0.324149\n",
       "FL                 1.0    0.162075\n",
       "FC                 1.0    0.162075\n",
       "DU                 1.0    0.162075\n",
       "GL                 1.0    0.162075"
      ]
     },
     "execution_count": 9,
     "metadata": {},
     "output_type": "execute_result"
    },
    {
     "data": {
      "image/png": "[encoded data removed]",
      "text/plain": [
       "<Figure size 1600x600 with 1 Axes>"
      ]
     },
     "metadata": {},
     "output_type": "display_data"
    }
   ],
   "source": [
    "df = train\n",
    "\n",
    "# Total missing data\n",
    "total = df.isnull().sum().sort_values(ascending=False)\n",
    "\n",
    "# Percentage missing data\n",
    "percent = (df.isnull().sum()/df.isnull().count()*100).sort_values(ascending=False)\n",
    "\n",
    "# Tabel Missing Data\n",
    "missing_data = pd.concat([total, percent],axis=1, keys=['Total missing data', 'Percentage'])\n",
    "tabel_md = missing_data[missing_data > 0].head(50).dropna()\n",
    "\n",
    "# Graph Missing Data\n",
    "fig, ax = plt.subplots(figsize=(16,6))\n",
    "#plt.xticks(rotation='90')\n",
    "sns.barplot(y=tabel_md.index, x=tabel_md['Percentage'])\n",
    "plt.xlabel('Feature', fontsize=15)\n",
    "plt.ylabel('Percentage of missing value', fontsize=15)\n",
    "plt.title('Percent missing data by feature', fontsize=15)\n",
    "\n",
    "tabel_md"
   ]
  },
  {
   "cell_type": "markdown",
   "id": "593e6cde",
   "metadata": {
    "papermill": {
     "duration": 0.024206,
     "end_time": "2023-08-09T15:48:20.951789",
     "exception": false,
     "start_time": "2023-08-09T15:48:20.927583",
     "status": "completed"
    },
    "tags": []
   },
   "source": [
    "Total missing data\n",
    "\n",
    "\n",
    "1.   Column total missing data > 9% : EL & BQ\n",
    "2.   Column total missing data < 1% : CC; CB; FS; FL; FC; DU; GL\n"
   ]
  },
  {
   "cell_type": "code",
   "execution_count": 10,
   "id": "22ed6af0",
   "metadata": {
    "execution": {
     "iopub.execute_input": "2023-08-09T15:48:21.003772Z",
     "iopub.status.busy": "2023-08-09T15:48:21.003338Z",
     "iopub.status.idle": "2023-08-09T15:48:21.022534Z",
     "shell.execute_reply": "2023-08-09T15:48:21.021250Z"
    },
    "papermill": {
     "duration": 0.048265,
     "end_time": "2023-08-09T15:48:21.024710",
     "exception": false,
     "start_time": "2023-08-09T15:48:20.976445",
     "status": "completed"
    },
    "tags": []
   },
   "outputs": [
    {
     "name": "stderr",
     "output_type": "stream",
     "text": [
      "/tmp/ipykernel_20/2383781487.py:3: FutureWarning: The default value of numeric_only in DataFrame.corr is deprecated. In a future version, it will default to False. Select only valid columns or specify the value of numeric_only to silence this warning.\n",
      "  df.corr()['EL'].sort_values(ascending=False, key=abs)[0:15]\n"
     ]
    },
    {
     "data": {
      "text/plain": [
       "EL     1.000000\n",
       "GL     0.314225\n",
       "GE     0.186231\n",
       "CU     0.140361\n",
       "CR    -0.135894\n",
       "FE     0.134647\n",
       "GI     0.126628\n",
       "DI     0.123333\n",
       "AZ     0.118017\n",
       "AF     0.114897\n",
       "AX     0.112591\n",
       "EU     0.105477\n",
       "CD    -0.104424\n",
       "EG    -0.090724\n",
       "DA    -0.089641\n",
       "Name: EL, dtype: float64"
      ]
     },
     "execution_count": 10,
     "metadata": {},
     "output_type": "execute_result"
    }
   ],
   "source": [
    "# Code for check correlation between feature\n",
    "# Before knn imputer, check correlation between features\n",
    "df.corr()['EL'].sort_values(ascending=False, key=abs)[0:15]"
   ]
  },
  {
   "cell_type": "markdown",
   "id": "b5debab4",
   "metadata": {
    "papermill": {
     "duration": 0.024686,
     "end_time": "2023-08-09T15:48:21.074276",
     "exception": false,
     "start_time": "2023-08-09T15:48:21.049590",
     "status": "completed"
    },
    "tags": []
   },
   "source": [
    "Number of samples is small, so missing data will replace with KNN Imputer"
   ]
  },
  {
   "cell_type": "code",
   "execution_count": 11,
   "id": "011b211d",
   "metadata": {
    "execution": {
     "iopub.execute_input": "2023-08-09T15:48:21.126274Z",
     "iopub.status.busy": "2023-08-09T15:48:21.125546Z",
     "iopub.status.idle": "2023-08-09T15:48:21.635908Z",
     "shell.execute_reply": "2023-08-09T15:48:21.634430Z"
    },
    "papermill": {
     "duration": 0.539661,
     "end_time": "2023-08-09T15:48:21.639005",
     "exception": false,
     "start_time": "2023-08-09T15:48:21.099344",
     "status": "completed"
    },
    "tags": []
   },
   "outputs": [],
   "source": [
    "# Using KNN imputer\n",
    "from sklearn.impute import KNNImputer"
   ]
  },
  {
   "cell_type": "markdown",
   "id": "9fb23b46",
   "metadata": {
    "papermill": {
     "duration": 0.025658,
     "end_time": "2023-08-09T15:48:21.689663",
     "exception": false,
     "start_time": "2023-08-09T15:48:21.664005",
     "status": "completed"
    },
    "tags": []
   },
   "source": [
    "#### Data Train"
   ]
  },
  {
   "cell_type": "code",
   "execution_count": 12,
   "id": "7c5e68a0",
   "metadata": {
    "execution": {
     "iopub.execute_input": "2023-08-09T15:48:21.741599Z",
     "iopub.status.busy": "2023-08-09T15:48:21.741203Z",
     "iopub.status.idle": "2023-08-09T15:48:21.769643Z",
     "shell.execute_reply": "2023-08-09T15:48:21.767980Z"
    },
    "papermill": {
     "duration": 0.060033,
     "end_time": "2023-08-09T15:48:21.774710",
     "exception": false,
     "start_time": "2023-08-09T15:48:21.714677",
     "status": "completed"
    },
    "tags": []
   },
   "outputs": [],
   "source": [
    "# We choose features which we assume is related to column that has missing data, the highest correlation\n",
    "imp_el = df[['AF', 'AZ', 'CR', 'CU', 'DI', 'EL', 'FE','GE', 'GI', 'GL',]]\n",
    "imputer = KNNImputer(n_neighbors=4,weights='distance')\n",
    "imp_filled = imputer.fit_transform(imp_el)\n",
    "imp_filled = pd.DataFrame(imp_filled, columns=imp_el.columns)"
   ]
  },
  {
   "cell_type": "code",
   "execution_count": 13,
   "id": "3d345e34",
   "metadata": {
    "execution": {
     "iopub.execute_input": "2023-08-09T15:48:21.882779Z",
     "iopub.status.busy": "2023-08-09T15:48:21.882409Z",
     "iopub.status.idle": "2023-08-09T15:48:22.194707Z",
     "shell.execute_reply": "2023-08-09T15:48:22.193550Z"
    },
    "papermill": {
     "duration": 0.368553,
     "end_time": "2023-08-09T15:48:22.197325",
     "exception": false,
     "start_time": "2023-08-09T15:48:21.828772",
     "status": "completed"
    },
    "tags": []
   },
   "outputs": [
    {
     "data": {
      "text/plain": [
       "<Axes: ylabel='Frequency'>"
      ]
     },
     "execution_count": 13,
     "metadata": {},
     "output_type": "execute_result"
    },
    {
     "data": {
      "image/png": "[encoded data removed]",
      "text/plain": [
       "<Figure size 640x480 with 1 Axes>"
      ]
     },
     "metadata": {},
     "output_type": "display_data"
    }
   ],
   "source": [
    "# EL after fill missing value\n",
    "imp_filled['EL'].plot(kind='hist')"
   ]
  },
  {
   "cell_type": "code",
   "execution_count": 14,
   "id": "a27a15bd",
   "metadata": {
    "execution": {
     "iopub.execute_input": "2023-08-09T15:48:22.260488Z",
     "iopub.status.busy": "2023-08-09T15:48:22.259771Z",
     "iopub.status.idle": "2023-08-09T15:48:22.562587Z",
     "shell.execute_reply": "2023-08-09T15:48:22.561593Z"
    },
    "papermill": {
     "duration": 0.332666,
     "end_time": "2023-08-09T15:48:22.565128",
     "exception": false,
     "start_time": "2023-08-09T15:48:22.232462",
     "status": "completed"
    },
    "tags": []
   },
   "outputs": [
    {
     "data": {
      "text/plain": [
       "<Axes: ylabel='Frequency'>"
      ]
     },
     "execution_count": 14,
     "metadata": {},
     "output_type": "execute_result"
    },
    {
     "data": {
      "image/png": "[encoded data removed]",
      "text/plain": [
       "<Figure size 640x480 with 1 Axes>"
      ]
     },
     "metadata": {},
     "output_type": "display_data"
    }
   ],
   "source": [
    "# EL before fill missing value\n",
    "imp_el['EL'].plot(kind='hist')"
   ]
  },
  {
   "cell_type": "markdown",
   "id": "65f4ab52",
   "metadata": {
    "execution": {
     "iopub.execute_input": "2023-06-12T03:55:11.024229Z",
     "iopub.status.busy": "2023-06-12T03:55:11.023812Z",
     "iopub.status.idle": "2023-06-12T03:55:11.032454Z",
     "shell.execute_reply": "2023-06-12T03:55:11.031084Z",
     "shell.execute_reply.started": "2023-06-12T03:55:11.024195Z"
    },
    "papermill": {
     "duration": 0.025968,
     "end_time": "2023-08-09T15:48:22.618855",
     "exception": false,
     "start_time": "2023-08-09T15:48:22.592887",
     "status": "completed"
    },
    "tags": []
   },
   "source": [
    "The other column process for knn imputer will compare distribution before and after fill missing value"
   ]
  },
  {
   "cell_type": "code",
   "execution_count": 15,
   "id": "a3e39cdc",
   "metadata": {
    "execution": {
     "iopub.execute_input": "2023-08-09T15:48:22.674514Z",
     "iopub.status.busy": "2023-08-09T15:48:22.673323Z",
     "iopub.status.idle": "2023-08-09T15:48:22.680614Z",
     "shell.execute_reply": "2023-08-09T15:48:22.679693Z"
    },
    "papermill": {
     "duration": 0.037562,
     "end_time": "2023-08-09T15:48:22.683156",
     "exception": false,
     "start_time": "2023-08-09T15:48:22.645594",
     "status": "completed"
    },
    "tags": []
   },
   "outputs": [],
   "source": [
    "# Fill missing values in column EL\n",
    "imp_idx = imp_el[(imp_el['EL'].isnull())].index.values\n",
    "df['EL'] = imp_filled['EL']"
   ]
  },
  {
   "cell_type": "code",
   "execution_count": 16,
   "id": "e35ad94e",
   "metadata": {
    "execution": {
     "iopub.execute_input": "2023-08-09T15:48:22.739770Z",
     "iopub.status.busy": "2023-08-09T15:48:22.738501Z",
     "iopub.status.idle": "2023-08-09T15:48:22.900931Z",
     "shell.execute_reply": "2023-08-09T15:48:22.899332Z"
    },
    "papermill": {
     "duration": 0.196453,
     "end_time": "2023-08-09T15:48:22.906009",
     "exception": false,
     "start_time": "2023-08-09T15:48:22.709556",
     "status": "completed"
    },
    "tags": []
   },
   "outputs": [
    {
     "name": "stdout",
     "output_type": "stream",
     "text": [
      "<class 'pandas.core.frame.DataFrame'>\n",
      "RangeIndex: 617 entries, 0 to 616\n",
      "Data columns (total 58 columns):\n",
      " #   Column  Non-Null Count  Dtype  \n",
      "---  ------  --------------  -----  \n",
      " 0   Id      617 non-null    object \n",
      " 1   AB      617 non-null    float64\n",
      " 2   AF      617 non-null    float64\n",
      " 3   AH      617 non-null    float64\n",
      " 4   AM      617 non-null    float64\n",
      " 5   AR      617 non-null    float64\n",
      " 6   AX      617 non-null    float64\n",
      " 7   AY      617 non-null    float64\n",
      " 8   AZ      617 non-null    float64\n",
      " 9   BC      617 non-null    float64\n",
      " 10  BD      617 non-null    float64\n",
      " 11  BN      617 non-null    float64\n",
      " 12  BP      617 non-null    float64\n",
      " 13  BQ      617 non-null    float64\n",
      " 14  BR      617 non-null    float64\n",
      " 15  BZ      617 non-null    float64\n",
      " 16  CB      617 non-null    float64\n",
      " 17  CC      617 non-null    float64\n",
      " 18  CD      617 non-null    float64\n",
      " 19  CF      617 non-null    float64\n",
      " 20  CH      617 non-null    float64\n",
      " 21  CL      617 non-null    float64\n",
      " 22  CR      617 non-null    float64\n",
      " 23  CS      617 non-null    float64\n",
      " 24  CU      617 non-null    float64\n",
      " 25  CW      617 non-null    float64\n",
      " 26  DA      617 non-null    float64\n",
      " 27  DE      617 non-null    float64\n",
      " 28  DF      617 non-null    float64\n",
      " 29  DH      617 non-null    float64\n",
      " 30  DI      617 non-null    float64\n",
      " 31  DL      617 non-null    float64\n",
      " 32  DN      617 non-null    float64\n",
      " 33  DU      617 non-null    float64\n",
      " 34  DV      617 non-null    float64\n",
      " 35  DY      617 non-null    float64\n",
      " 36  EB      617 non-null    float64\n",
      " 37  EE      617 non-null    float64\n",
      " 38  EG      617 non-null    float64\n",
      " 39  EH      617 non-null    float64\n",
      " 40  EJ      617 non-null    object \n",
      " 41  EL      617 non-null    float64\n",
      " 42  EP      617 non-null    float64\n",
      " 43  EU      617 non-null    float64\n",
      " 44  FC      617 non-null    float64\n",
      " 45  FD      617 non-null    float64\n",
      " 46  FE      617 non-null    float64\n",
      " 47  FI      617 non-null    float64\n",
      " 48  FL      617 non-null    float64\n",
      " 49  FR      617 non-null    float64\n",
      " 50  FS      617 non-null    float64\n",
      " 51  GB      617 non-null    float64\n",
      " 52  GE      617 non-null    float64\n",
      " 53  GF      617 non-null    float64\n",
      " 54  GH      617 non-null    float64\n",
      " 55  GI      617 non-null    float64\n",
      " 56  GL      617 non-null    float64\n",
      " 57  Class   617 non-null    int64  \n",
      "dtypes: float64(55), int64(1), object(2)\n",
      "memory usage: 279.7+ KB\n"
     ]
    }
   ],
   "source": [
    "# Knn imputer for column BQ, CC; CB; FS; FL; FC; DU; GL\n",
    "\n",
    "# We choose features which we assume is related to column, the highest correlation\n",
    "imp_bq = df[['BQ','AB', 'AF', 'AM', 'AR', 'AX', 'BP', 'CD ', 'CF', 'CH', 'DI', 'DN', 'EB', 'FL', 'GL']]\n",
    "imp_cc = df[['CC', 'BZ', 'BC', 'BD ', 'CF', 'GB', 'AB', 'BR', 'BP', 'GE', 'AX']]\n",
    "imp_cb = df[['CB', 'CD ', 'FC', 'GE', 'CR', 'BQ']]\n",
    "imp_fs = df[['FS', 'DI', 'GL', 'DN', 'DA', 'CF', 'GF', 'DY']]\n",
    "imp_fl = df[['FL', 'DU', 'EH', 'FD ', 'GL', 'DF', 'AM', 'GH', 'BQ']]\n",
    "imp_fc = df[['FC', 'AB', 'AH', 'CH', 'BN', 'AX', 'CB', 'AZ', 'GB']]\n",
    "imp_du = df[['DU', 'EH', 'FD ', 'FL', 'GL', 'EE', 'BQ', 'BN', 'AF', 'DN']]\n",
    "imp_gl = df[['GL', 'GF', 'FL', 'EL', 'BQ', 'DU', 'DY', 'EE']]\n",
    "\n",
    "list_corr_column = [imp_bq, imp_cc, imp_cb, imp_fs, imp_fl, imp_fc, imp_du, imp_gl]\n",
    "\n",
    "\n",
    "# value n_neighbor for KNNImputer for column BQ, CC; CB; FS; FL; FC; DU; GL\n",
    "neigh = [5, 4, 4, 3, 5, 5, 3, 4]\n",
    "\n",
    "\n",
    "# list for indexing\n",
    "list_index = [imp_bq['BQ'], imp_cc['CC'], imp_cb['CB'], imp_fs['FS'], imp_fl['FL'], imp_fc['FC'], imp_du['DU'], imp_gl['GL']]\n",
    "\n",
    "\n",
    "list_ms = []\n",
    "# looping for fill missing values in columns\n",
    "for i in range(len(neigh)):\n",
    "    imputer = KNNImputer(n_neighbors=neigh[i],weights='distance')\n",
    "    imp_filled = imputer.fit_transform(list_corr_column[i])\n",
    "    imp_filled = pd.DataFrame(imp_filled, columns=list_corr_column[i].columns)\n",
    "    list_ms.append(imp_filled[imp_filled.columns[0]])\n",
    "\n",
    "df['BQ'] = list_ms[0]\n",
    "df['CC'] = list_ms[1]\n",
    "df['CB'] = list_ms[2]\n",
    "df['FS'] = list_ms[3]\n",
    "df['FL'] = list_ms[4]\n",
    "df['FC'] = list_ms[5]\n",
    "df['DU'] = list_ms[6]\n",
    "df['GL'] = list_ms[7]\n",
    "    \n",
    "df.info()"
   ]
  },
  {
   "cell_type": "code",
   "execution_count": 17,
   "id": "93d15157",
   "metadata": {
    "execution": {
     "iopub.execute_input": "2023-08-09T15:48:23.018963Z",
     "iopub.status.busy": "2023-08-09T15:48:23.018517Z",
     "iopub.status.idle": "2023-08-09T15:48:23.023706Z",
     "shell.execute_reply": "2023-08-09T15:48:23.022511Z"
    },
    "papermill": {
     "duration": 0.03667,
     "end_time": "2023-08-09T15:48:23.026216",
     "exception": false,
     "start_time": "2023-08-09T15:48:22.989546",
     "status": "completed"
    },
    "tags": []
   },
   "outputs": [],
   "source": [
    "train_knn_imputer = df"
   ]
  },
  {
   "cell_type": "markdown",
   "id": "1ca9d17e",
   "metadata": {
    "papermill": {
     "duration": 0.026245,
     "end_time": "2023-08-09T15:48:23.078856",
     "exception": false,
     "start_time": "2023-08-09T15:48:23.052611",
     "status": "completed"
    },
    "tags": []
   },
   "source": [
    "<a id=\"section-fs\"></a>\n",
    "## Feature Selection"
   ]
  },
  {
   "cell_type": "code",
   "execution_count": 18,
   "id": "b40521dd",
   "metadata": {
    "execution": {
     "iopub.execute_input": "2023-08-09T15:48:23.136327Z",
     "iopub.status.busy": "2023-08-09T15:48:23.135458Z",
     "iopub.status.idle": "2023-08-09T15:48:23.148812Z",
     "shell.execute_reply": "2023-08-09T15:48:23.147851Z"
    },
    "papermill": {
     "duration": 0.045953,
     "end_time": "2023-08-09T15:48:23.151423",
     "exception": false,
     "start_time": "2023-08-09T15:48:23.105470",
     "status": "completed"
    },
    "tags": []
   },
   "outputs": [],
   "source": [
    "import scipy.stats as ss\n",
    "\n",
    "def correlation_ratio(categories, measurements):\n",
    "    fcat, _ = pd.factorize(categories)\n",
    "    cat_num = np.max(fcat) + 1\n",
    "    y_avg_array = np.zeros(cat_num)\n",
    "    n_array = np.zeros(cat_num)\n",
    "    for i in range(0, cat_num):\n",
    "        cat_measures = measurements[np.argwhere(fcat == i).flatten()]\n",
    "        n_array[i] = len(cat_measures)\n",
    "        y_avg_array[i] = np.average(cat_measures)\n",
    "    y_total_avg = np.sum(np.multiply(y_avg_array, n_array)) / np.sum(n_array)\n",
    "    numerator = np.sum(\n",
    "        np.multiply(n_array, np.power(np.subtract(y_avg_array, y_total_avg),\n",
    "                                      2)))\n",
    "    denominator = np.sum(np.power(np.subtract(measurements, y_total_avg), 2))\n",
    "    if numerator == 0:\n",
    "        eta = 0.0\n",
    "    else:\n",
    "        eta = np.sqrt(numerator / denominator)\n",
    "    return eta\n",
    "\n",
    "def cramers_v(x, y):\n",
    "    import scipy.stats as ss\n",
    "    confusion_matrix = pd.crosstab(x, y)\n",
    "    chi2 = ss.chi2_contingency(confusion_matrix)[0]\n",
    "    n = confusion_matrix.sum().sum()\n",
    "    phi2 = chi2 / n\n",
    "    r, k = confusion_matrix.shape\n",
    "    phi2corr = max(0, phi2 - ((k - 1) * (r - 1)) / (n - 1))\n",
    "    rcorr = r - ((r - 1)**2) / (n - 1)\n",
    "    kcorr = k - ((k - 1)**2) / (n - 1)\n",
    "    return np.sqrt(phi2corr / min((kcorr - 1), (rcorr - 1)))"
   ]
  },
  {
   "cell_type": "markdown",
   "id": "255e49b2",
   "metadata": {
    "papermill": {
     "duration": 0.027863,
     "end_time": "2023-08-09T15:48:23.205506",
     "exception": false,
     "start_time": "2023-08-09T15:48:23.177643",
     "status": "completed"
    },
    "tags": []
   },
   "source": [
    "<a id=\"subsection-it1\"></a>\n",
    "### Iteration-1"
   ]
  },
  {
   "cell_type": "markdown",
   "id": "98d7b751",
   "metadata": {
    "execution": {
     "iopub.execute_input": "2023-06-12T03:56:10.635431Z",
     "iopub.status.busy": "2023-06-12T03:56:10.634796Z",
     "iopub.status.idle": "2023-06-12T03:56:10.643111Z",
     "shell.execute_reply": "2023-06-12T03:56:10.641974Z",
     "shell.execute_reply.started": "2023-06-12T03:56:10.635386Z"
    },
    "papermill": {
     "duration": 0.026318,
     "end_time": "2023-08-09T15:48:23.257780",
     "exception": false,
     "start_time": "2023-08-09T15:48:23.231462",
     "status": "completed"
    },
    "tags": []
   },
   "source": [
    "**Feature Selection menggunakan correlation ratio (numerical VS categorical (target)) untuk features numerical**"
   ]
  },
  {
   "cell_type": "code",
   "execution_count": 19,
   "id": "7f399032",
   "metadata": {
    "execution": {
     "iopub.execute_input": "2023-08-09T15:48:23.312140Z",
     "iopub.status.busy": "2023-08-09T15:48:23.311732Z",
     "iopub.status.idle": "2023-08-09T15:48:23.322721Z",
     "shell.execute_reply": "2023-08-09T15:48:23.321780Z"
    },
    "papermill": {
     "duration": 0.041281,
     "end_time": "2023-08-09T15:48:23.325017",
     "exception": false,
     "start_time": "2023-08-09T15:48:23.283736",
     "status": "completed"
    },
    "tags": []
   },
   "outputs": [
    {
     "data": {
      "text/plain": [
       "Index(['AB', 'AF', 'AH', 'AM', 'AR', 'AX', 'AY', 'AZ', 'BC', 'BD ', 'BN', 'BP',\n",
       "       'BQ', 'BR', 'BZ', 'CB', 'CC', 'CD ', 'CF', 'CH', 'CL', 'CR', 'CS', 'CU',\n",
       "       'CW ', 'DA', 'DE', 'DF', 'DH', 'DI', 'DL', 'DN', 'DU', 'DV', 'DY', 'EB',\n",
       "       'EE', 'EG', 'EH', 'EL', 'EP', 'EU', 'FC', 'FD ', 'FE', 'FI', 'FL', 'FR',\n",
       "       'FS', 'GB', 'GE', 'GF', 'GH', 'GI', 'GL'],\n",
       "      dtype='object')"
      ]
     },
     "execution_count": 19,
     "metadata": {},
     "output_type": "execute_result"
    }
   ],
   "source": [
    "# Numerical columns\n",
    "numerical = df.drop(['Class',],axis=1).select_dtypes('number')\n",
    "numerical_columns = numerical.columns\n",
    "numerical_columns "
   ]
  },
  {
   "cell_type": "code",
   "execution_count": 20,
   "id": "70eab7ee",
   "metadata": {
    "execution": {
     "iopub.execute_input": "2023-08-09T15:48:23.378994Z",
     "iopub.status.busy": "2023-08-09T15:48:23.378212Z",
     "iopub.status.idle": "2023-08-09T15:48:23.507826Z",
     "shell.execute_reply": "2023-08-09T15:48:23.506731Z"
    },
    "papermill": {
     "duration": 0.159729,
     "end_time": "2023-08-09T15:48:23.510505",
     "exception": false,
     "start_time": "2023-08-09T15:48:23.350776",
     "status": "completed"
    },
    "tags": []
   },
   "outputs": [
    {
     "name": "stdout",
     "output_type": "stream",
     "text": [
      "<class 'pandas.core.frame.DataFrame'>\n",
      "RangeIndex: 617 entries, 0 to 616\n",
      "Data columns (total 29 columns):\n",
      " #   Column  Non-Null Count  Dtype  \n",
      "---  ------  --------------  -----  \n",
      " 0   Id      617 non-null    object \n",
      " 1   AB      617 non-null    float64\n",
      " 2   AF      617 non-null    float64\n",
      " 3   AM      617 non-null    float64\n",
      " 4   BC      617 non-null    float64\n",
      " 5   BD      617 non-null    float64\n",
      " 6   BN      617 non-null    float64\n",
      " 7   BP      617 non-null    float64\n",
      " 8   BQ      617 non-null    float64\n",
      " 9   BZ      617 non-null    float64\n",
      " 10  CD      617 non-null    float64\n",
      " 11  CF      617 non-null    float64\n",
      " 12  CR      617 non-null    float64\n",
      " 13  DA      617 non-null    float64\n",
      " 14  DE      617 non-null    float64\n",
      " 15  DH      617 non-null    float64\n",
      " 16  DI      617 non-null    float64\n",
      " 17  DL      617 non-null    float64\n",
      " 18  DU      617 non-null    float64\n",
      " 19  EE      617 non-null    float64\n",
      " 20  EH      617 non-null    float64\n",
      " 21  EJ      617 non-null    object \n",
      " 22  FD      617 non-null    float64\n",
      " 23  FE      617 non-null    float64\n",
      " 24  FL      617 non-null    float64\n",
      " 25  FR      617 non-null    float64\n",
      " 26  GF      617 non-null    float64\n",
      " 27  GL      617 non-null    float64\n",
      " 28  Class   617 non-null    int64  \n",
      "dtypes: float64(26), int64(1), object(2)\n",
      "memory usage: 139.9+ KB\n"
     ]
    }
   ],
   "source": [
    "corr_ratio = []\n",
    "for i in numerical_columns:\n",
    "    corr_ratio.append(correlation_ratio(df['Class'], df[i]))\n",
    "\n",
    "Corr = pd.DataFrame(data=[numerical_columns, corr_ratio]\n",
    "                   ).T\n",
    "Corr.columns = ['Column', 'Corr_Ratio']\n",
    "Corr.sort_values(by='Corr_Ratio', ascending=False)\n",
    "\n",
    "# Delete columns Corr_ratio < 0.1\n",
    "df_1 = df.drop(columns=Corr[Corr.Corr_Ratio < 0.1].iloc[:,0].values, axis=1)\n",
    "df_1.info()"
   ]
  },
  {
   "cell_type": "markdown",
   "id": "f169aecc",
   "metadata": {
    "papermill": {
     "duration": 0.026256,
     "end_time": "2023-08-09T15:48:23.563600",
     "exception": false,
     "start_time": "2023-08-09T15:48:23.537344",
     "status": "completed"
    },
    "tags": []
   },
   "source": [
    "#### Binning numerical columns"
   ]
  },
  {
   "cell_type": "code",
   "execution_count": 21,
   "id": "04870f70",
   "metadata": {
    "execution": {
     "iopub.execute_input": "2023-08-09T15:48:23.619255Z",
     "iopub.status.busy": "2023-08-09T15:48:23.618433Z",
     "iopub.status.idle": "2023-08-09T15:48:23.628549Z",
     "shell.execute_reply": "2023-08-09T15:48:23.627475Z"
    },
    "papermill": {
     "duration": 0.041068,
     "end_time": "2023-08-09T15:48:23.631029",
     "exception": false,
     "start_time": "2023-08-09T15:48:23.589961",
     "status": "completed"
    },
    "tags": []
   },
   "outputs": [
    {
     "data": {
      "text/plain": [
       "Index(['AH', 'AR', 'AX', 'AY', 'AZ', 'BR', 'CB', 'CC', 'CH', 'CL', 'CS', 'CU',\n",
       "       'CW ', 'DF', 'DN', 'DV', 'DY', 'EB', 'EG', 'EL', 'EP', 'EU', 'FC', 'FI',\n",
       "       'FS', 'GB', 'GE', 'GH', 'GI'],\n",
       "      dtype='object')"
      ]
     },
     "execution_count": 21,
     "metadata": {},
     "output_type": "execute_result"
    }
   ],
   "source": [
    "cat_columns = df.columns.difference(df_1.columns)\n",
    "cat_columns"
   ]
  },
  {
   "cell_type": "markdown",
   "id": "ca5f57ac",
   "metadata": {
    "papermill": {
     "duration": 0.026277,
     "end_time": "2023-08-09T15:48:23.684059",
     "exception": false,
     "start_time": "2023-08-09T15:48:23.657782",
     "status": "completed"
    },
    "tags": []
   },
   "source": [
    "<a id=\"subsection-it2\"></a>\n",
    "### Iterartion 2"
   ]
  },
  {
   "cell_type": "code",
   "execution_count": 22,
   "id": "2cde956b",
   "metadata": {
    "execution": {
     "iopub.execute_input": "2023-08-09T15:48:23.739145Z",
     "iopub.status.busy": "2023-08-09T15:48:23.738351Z",
     "iopub.status.idle": "2023-08-09T15:48:23.748011Z",
     "shell.execute_reply": "2023-08-09T15:48:23.747045Z"
    },
    "papermill": {
     "duration": 0.039831,
     "end_time": "2023-08-09T15:48:23.750356",
     "exception": false,
     "start_time": "2023-08-09T15:48:23.710525",
     "status": "completed"
    },
    "tags": []
   },
   "outputs": [
    {
     "data": {
      "text/plain": [
       "Index(['EJ'], dtype='object')"
      ]
     },
     "execution_count": 22,
     "metadata": {},
     "output_type": "execute_result"
    }
   ],
   "source": [
    "categorical = df.drop(['Id',],axis=1).select_dtypes('object')\n",
    "categorical_columns = categorical.columns\n",
    "categorical_columns"
   ]
  },
  {
   "cell_type": "code",
   "execution_count": 23,
   "id": "15ce919b",
   "metadata": {
    "execution": {
     "iopub.execute_input": "2023-08-09T15:48:23.805635Z",
     "iopub.status.busy": "2023-08-09T15:48:23.804828Z",
     "iopub.status.idle": "2023-08-09T15:48:23.842668Z",
     "shell.execute_reply": "2023-08-09T15:48:23.841287Z"
    },
    "papermill": {
     "duration": 0.068818,
     "end_time": "2023-08-09T15:48:23.845578",
     "exception": false,
     "start_time": "2023-08-09T15:48:23.776760",
     "status": "completed"
    },
    "tags": []
   },
   "outputs": [
    {
     "name": "stdout",
     "output_type": "stream",
     "text": [
      "<class 'pandas.core.frame.DataFrame'>\n",
      "RangeIndex: 617 entries, 0 to 616\n",
      "Data columns (total 57 columns):\n",
      " #   Column  Non-Null Count  Dtype  \n",
      "---  ------  --------------  -----  \n",
      " 0   Id      617 non-null    object \n",
      " 1   AB      617 non-null    float64\n",
      " 2   AF      617 non-null    float64\n",
      " 3   AH      617 non-null    float64\n",
      " 4   AM      617 non-null    float64\n",
      " 5   AR      617 non-null    float64\n",
      " 6   AX      617 non-null    float64\n",
      " 7   AY      617 non-null    float64\n",
      " 8   AZ      617 non-null    float64\n",
      " 9   BC      617 non-null    float64\n",
      " 10  BD      617 non-null    float64\n",
      " 11  BN      617 non-null    float64\n",
      " 12  BP      617 non-null    float64\n",
      " 13  BQ      617 non-null    float64\n",
      " 14  BR      617 non-null    float64\n",
      " 15  BZ      617 non-null    float64\n",
      " 16  CB      617 non-null    float64\n",
      " 17  CC      617 non-null    float64\n",
      " 18  CD      617 non-null    float64\n",
      " 19  CF      617 non-null    float64\n",
      " 20  CH      617 non-null    float64\n",
      " 21  CL      617 non-null    float64\n",
      " 22  CR      617 non-null    float64\n",
      " 23  CS      617 non-null    float64\n",
      " 24  CU      617 non-null    float64\n",
      " 25  CW      617 non-null    float64\n",
      " 26  DA      617 non-null    float64\n",
      " 27  DE      617 non-null    float64\n",
      " 28  DF      617 non-null    float64\n",
      " 29  DH      617 non-null    float64\n",
      " 30  DI      617 non-null    float64\n",
      " 31  DL      617 non-null    float64\n",
      " 32  DN      617 non-null    float64\n",
      " 33  DU      617 non-null    float64\n",
      " 34  DV      617 non-null    float64\n",
      " 35  DY      617 non-null    float64\n",
      " 36  EB      617 non-null    float64\n",
      " 37  EE      617 non-null    float64\n",
      " 38  EG      617 non-null    float64\n",
      " 39  EH      617 non-null    float64\n",
      " 40  EL      617 non-null    float64\n",
      " 41  EP      617 non-null    float64\n",
      " 42  EU      617 non-null    float64\n",
      " 43  FC      617 non-null    float64\n",
      " 44  FD      617 non-null    float64\n",
      " 45  FE      617 non-null    float64\n",
      " 46  FI      617 non-null    float64\n",
      " 47  FL      617 non-null    float64\n",
      " 48  FR      617 non-null    float64\n",
      " 49  FS      617 non-null    float64\n",
      " 50  GB      617 non-null    float64\n",
      " 51  GE      617 non-null    float64\n",
      " 52  GF      617 non-null    float64\n",
      " 53  GH      617 non-null    float64\n",
      " 54  GI      617 non-null    float64\n",
      " 55  GL      617 non-null    float64\n",
      " 56  Class   617 non-null    int64  \n",
      "dtypes: float64(55), int64(1), object(1)\n",
      "memory usage: 274.9+ KB\n"
     ]
    }
   ],
   "source": [
    "cramers = []\n",
    "for i in categorical_columns:\n",
    "    cramers.append(cramers_v(df[i], df['Class']))\n",
    "CramersV= pd.DataFrame(data=[categorical_columns, cramers]).T\n",
    "CramersV.columns= ['Column', 'CramersV']\n",
    "CramersV.sort_values(by='CramersV', ascending=False)\n",
    "\n",
    "df.drop(columns=CramersV[CramersV.CramersV < 0.1].values[:,0], axis=1, inplace=True)\n",
    "df.info()"
   ]
  },
  {
   "cell_type": "code",
   "execution_count": 24,
   "id": "675f1e86",
   "metadata": {
    "execution": {
     "iopub.execute_input": "2023-08-09T15:48:23.901349Z",
     "iopub.status.busy": "2023-08-09T15:48:23.900947Z",
     "iopub.status.idle": "2023-08-09T15:48:24.032683Z",
     "shell.execute_reply": "2023-08-09T15:48:24.030780Z"
    },
    "papermill": {
     "duration": 0.162341,
     "end_time": "2023-08-09T15:48:24.035212",
     "exception": false,
     "start_time": "2023-08-09T15:48:23.872871",
     "status": "completed"
    },
    "tags": []
   },
   "outputs": [
    {
     "name": "stdout",
     "output_type": "stream",
     "text": [
      "<class 'pandas.core.frame.DataFrame'>\n",
      "RangeIndex: 617 entries, 0 to 616\n",
      "Data columns (total 28 columns):\n",
      " #   Column  Non-Null Count  Dtype  \n",
      "---  ------  --------------  -----  \n",
      " 0   Id      617 non-null    object \n",
      " 1   AB      617 non-null    float64\n",
      " 2   AF      617 non-null    float64\n",
      " 3   AM      617 non-null    float64\n",
      " 4   BC      617 non-null    float64\n",
      " 5   BD      617 non-null    float64\n",
      " 6   BN      617 non-null    float64\n",
      " 7   BP      617 non-null    float64\n",
      " 8   BQ      617 non-null    float64\n",
      " 9   BZ      617 non-null    float64\n",
      " 10  CD      617 non-null    float64\n",
      " 11  CF      617 non-null    float64\n",
      " 12  CR      617 non-null    float64\n",
      " 13  DA      617 non-null    float64\n",
      " 14  DE      617 non-null    float64\n",
      " 15  DH      617 non-null    float64\n",
      " 16  DI      617 non-null    float64\n",
      " 17  DL      617 non-null    float64\n",
      " 18  DU      617 non-null    float64\n",
      " 19  EE      617 non-null    float64\n",
      " 20  EH      617 non-null    float64\n",
      " 21  FD      617 non-null    float64\n",
      " 22  FE      617 non-null    float64\n",
      " 23  FL      617 non-null    float64\n",
      " 24  FR      617 non-null    float64\n",
      " 25  GF      617 non-null    float64\n",
      " 26  GL      617 non-null    float64\n",
      " 27  Class   617 non-null    int64  \n",
      "dtypes: float64(26), int64(1), object(1)\n",
      "memory usage: 135.1+ KB\n"
     ]
    }
   ],
   "source": [
    "corr_ratio = []\n",
    "for i in numerical_columns:\n",
    "    corr_ratio.append(correlation_ratio(df['Class'], df[i]))\n",
    "\n",
    "Corr = pd.DataFrame(data=[numerical_columns, corr_ratio]\n",
    "                   ).T\n",
    "Corr.columns = ['Column', 'Corr_Ratio']\n",
    "Corr.sort_values(by='Corr_Ratio', ascending=False)\n",
    "\n",
    "# Delete columns Corr_ratio < 0.1\n",
    "df = df.drop(columns=Corr[Corr.Corr_Ratio < 0.1].iloc[:,0].values, axis=1)\n",
    "df.info()"
   ]
  },
  {
   "cell_type": "code",
   "execution_count": 25,
   "id": "4847f13d",
   "metadata": {
    "execution": {
     "iopub.execute_input": "2023-08-09T15:48:24.091871Z",
     "iopub.status.busy": "2023-08-09T15:48:24.091442Z",
     "iopub.status.idle": "2023-08-09T15:48:24.096490Z",
     "shell.execute_reply": "2023-08-09T15:48:24.095275Z"
    },
    "papermill": {
     "duration": 0.035857,
     "end_time": "2023-08-09T15:48:24.098742",
     "exception": false,
     "start_time": "2023-08-09T15:48:24.062885",
     "status": "completed"
    },
    "tags": []
   },
   "outputs": [],
   "source": [
    "# output feature selection\n",
    "train_feature_selection = df"
   ]
  },
  {
   "cell_type": "code",
   "execution_count": null,
   "id": "e78964d5",
   "metadata": {
    "papermill": {
     "duration": 0.026489,
     "end_time": "2023-08-09T15:48:24.154151",
     "exception": false,
     "start_time": "2023-08-09T15:48:24.127662",
     "status": "completed"
    },
    "tags": []
   },
   "outputs": [],
   "source": []
  },
  {
   "cell_type": "markdown",
   "id": "2f73dc66",
   "metadata": {
    "papermill": {
     "duration": 0.026977,
     "end_time": "2023-08-09T15:48:24.208044",
     "exception": false,
     "start_time": "2023-08-09T15:48:24.181067",
     "status": "completed"
    },
    "tags": []
   },
   "source": [
    "<a id=\"section-stf\"></a>\n",
    "## Models"
   ]
  },
  {
   "cell_type": "code",
   "execution_count": 26,
   "id": "186feb73",
   "metadata": {
    "execution": {
     "iopub.execute_input": "2023-08-09T15:48:24.265229Z",
     "iopub.status.busy": "2023-08-09T15:48:24.264792Z",
     "iopub.status.idle": "2023-08-09T15:48:24.656702Z",
     "shell.execute_reply": "2023-08-09T15:48:24.655748Z"
    },
    "papermill": {
     "duration": 0.424503,
     "end_time": "2023-08-09T15:48:24.659621",
     "exception": false,
     "start_time": "2023-08-09T15:48:24.235118",
     "status": "completed"
    },
    "tags": []
   },
   "outputs": [],
   "source": [
    "from catboost import CatBoostClassifier\n",
    "from sklearn.model_selection import train_test_split, GridSearchCV\n",
    "from sklearn import metrics, preprocessing"
   ]
  },
  {
   "cell_type": "code",
   "execution_count": 27,
   "id": "10a49e92",
   "metadata": {
    "execution": {
     "iopub.execute_input": "2023-08-09T15:48:24.716132Z",
     "iopub.status.busy": "2023-08-09T15:48:24.715701Z",
     "iopub.status.idle": "2023-08-09T15:48:24.734558Z",
     "shell.execute_reply": "2023-08-09T15:48:24.733403Z"
    },
    "papermill": {
     "duration": 0.049862,
     "end_time": "2023-08-09T15:48:24.737300",
     "exception": false,
     "start_time": "2023-08-09T15:48:24.687438",
     "status": "completed"
    },
    "tags": []
   },
   "outputs": [],
   "source": [
    "# Split the data into features (X) and target variable (y)\n",
    "X = df.drop(['Class','Id'], axis=1)\n",
    "y = df[['Class']]\n",
    "# Convert the target variable to integer\n",
    "# y = y.astype(int)\n",
    "#X_train, X_test, y_train, y_test = train_test_split(X,y.values,test_size=0.25,random_state=52)\n",
    "\n",
    "X_train, X_test, y_train, y_test = train_test_split(X,y,test_size=0.2,random_state=7, shuffle=True, stratify = y)"
   ]
  },
  {
   "cell_type": "code",
   "execution_count": 28,
   "id": "222ed0f0",
   "metadata": {
    "execution": {
     "iopub.execute_input": "2023-08-09T15:48:24.793335Z",
     "iopub.status.busy": "2023-08-09T15:48:24.792881Z",
     "iopub.status.idle": "2023-08-09T15:48:24.798446Z",
     "shell.execute_reply": "2023-08-09T15:48:24.797365Z"
    },
    "papermill": {
     "duration": 0.036026,
     "end_time": "2023-08-09T15:48:24.800584",
     "exception": false,
     "start_time": "2023-08-09T15:48:24.764558",
     "status": "completed"
    },
    "tags": []
   },
   "outputs": [],
   "source": [
    "from sklearn.model_selection import StratifiedKFold\n",
    "n_fold = 4\n",
    "folds = StratifiedKFold(n_splits=n_fold, shuffle=True)"
   ]
  },
  {
   "cell_type": "code",
   "execution_count": 29,
   "id": "134b0363",
   "metadata": {
    "execution": {
     "iopub.execute_input": "2023-08-09T15:48:24.856730Z",
     "iopub.status.busy": "2023-08-09T15:48:24.856286Z",
     "iopub.status.idle": "2023-08-09T15:48:24.867472Z",
     "shell.execute_reply": "2023-08-09T15:48:24.866412Z"
    },
    "papermill": {
     "duration": 0.042467,
     "end_time": "2023-08-09T15:48:24.869762",
     "exception": false,
     "start_time": "2023-08-09T15:48:24.827295",
     "status": "completed"
    },
    "tags": []
   },
   "outputs": [
    {
     "data": {
      "text/plain": [
       "Class\n",
       "0        509\n",
       "1        108\n",
       "dtype: int64"
      ]
     },
     "execution_count": 29,
     "metadata": {},
     "output_type": "execute_result"
    }
   ],
   "source": [
    "y.value_counts()"
   ]
  },
  {
   "cell_type": "code",
   "execution_count": 30,
   "id": "308446de",
   "metadata": {
    "execution": {
     "iopub.execute_input": "2023-08-09T15:48:24.925474Z",
     "iopub.status.busy": "2023-08-09T15:48:24.925094Z",
     "iopub.status.idle": "2023-08-09T15:48:24.933846Z",
     "shell.execute_reply": "2023-08-09T15:48:24.932369Z"
    },
    "papermill": {
     "duration": 0.039573,
     "end_time": "2023-08-09T15:48:24.936159",
     "exception": false,
     "start_time": "2023-08-09T15:48:24.896586",
     "status": "completed"
    },
    "tags": []
   },
   "outputs": [
    {
     "name": "stdout",
     "output_type": "stream",
     "text": [
      "Weight for class 0: 0.61\n",
      "Weight for class 1: 2.86\n"
     ]
    }
   ],
   "source": [
    "# Calculate the number of samples for each label.\n",
    "neg, pos = np.bincount(df['Class'])\n",
    "\n",
    "# Calculate total samples.\n",
    "total = neg + pos\n",
    "\n",
    "# Calculate the weight for each label.\n",
    "weight_for_0 = (1 / neg) * (total / 2.0)\n",
    "weight_for_1 = (1 / pos) * (total / 2.0)\n",
    "\n",
    "class_weight = {0: weight_for_0, 1: weight_for_1}\n",
    "\n",
    "print('Weight for class 0: {:.2f}'.format(weight_for_0))\n",
    "print('Weight for class 1: {:.2f}'.format(weight_for_1))"
   ]
  },
  {
   "cell_type": "code",
   "execution_count": 31,
   "id": "489b01fc",
   "metadata": {
    "execution": {
     "iopub.execute_input": "2023-08-09T15:48:24.994095Z",
     "iopub.status.busy": "2023-08-09T15:48:24.993284Z",
     "iopub.status.idle": "2023-08-09T15:48:25.002027Z",
     "shell.execute_reply": "2023-08-09T15:48:25.001139Z"
    },
    "papermill": {
     "duration": 0.04067,
     "end_time": "2023-08-09T15:48:25.004754",
     "exception": false,
     "start_time": "2023-08-09T15:48:24.964084",
     "status": "completed"
    },
    "tags": []
   },
   "outputs": [],
   "source": [
    "class BalancedLogLoss:\n",
    "    def get_final_error(self, error, weight):\n",
    "        return error\n",
    "\n",
    "    def is_max_optimal(self):\n",
    "        return False\n",
    "\n",
    "    def evaluate(self, approxes, target, weight):\n",
    "        y_true = target.astype(int)\n",
    "        y_pred = approxes[0].astype(float)\n",
    "        \n",
    "        y_pred = np.clip(y_pred, 1e-15, 1 - 1e-15)\n",
    "        individual_loss = -(y_true * np.log(y_pred) + (1 - y_true) * np.log(1 - y_pred))\n",
    "        \n",
    "        class_weights = np.where(y_true == 1, np.sum(y_true == 0) / np.sum(y_true == 1), np.sum(y_true == 1) / np.sum(y_true == 0))\n",
    "        weighted_loss = individual_loss * class_weights\n",
    "        \n",
    "        balanced_logloss = np.mean(weighted_loss)\n",
    "        \n",
    "        return balanced_logloss, 0.0"
   ]
  },
  {
   "cell_type": "markdown",
   "id": "bc233ef3",
   "metadata": {
    "papermill": {
     "duration": 0.027495,
     "end_time": "2023-08-09T15:48:25.060074",
     "exception": false,
     "start_time": "2023-08-09T15:48:25.032579",
     "status": "completed"
    },
    "tags": []
   },
   "source": [
    "params = {'bagging_temperature': 0.5,\n",
    "            'depth': 7,\n",
    "            'iterations': 500,\n",
    "            'l2_leaf_reg': 25,\n",
    "            'learning_rate': 0.04,\n",
    "            'sampling_frequency': 'PerTreeLevel',\n",
    "            'leaf_estimation_method': 'Gradient',\n",
    "            'random_strength': 0.8,\n",
    "            'boosting_type': 'Ordered',\n",
    "            'feature_border_type': 'MaxLogSum',\n",
    "            'l2_leaf_reg': 50,\n",
    "            'max_ctr_complexity': 2,\n",
    "            'fold_len_multiplier': 2}"
   ]
  },
  {
   "cell_type": "code",
   "execution_count": 32,
   "id": "ec8ad11b",
   "metadata": {
    "execution": {
     "iopub.execute_input": "2023-08-09T15:48:25.116866Z",
     "iopub.status.busy": "2023-08-09T15:48:25.115771Z",
     "iopub.status.idle": "2023-08-09T15:48:29.379247Z",
     "shell.execute_reply": "2023-08-09T15:48:29.378089Z"
    },
    "papermill": {
     "duration": 4.294465,
     "end_time": "2023-08-09T15:48:29.381677",
     "exception": false,
     "start_time": "2023-08-09T15:48:25.087212",
     "status": "completed"
    },
    "tags": []
   },
   "outputs": [
    {
     "name": "stderr",
     "output_type": "stream",
     "text": [
      "/opt/conda/lib/python3.10/site-packages/catboost/core.py:1761: UserWarning: Failed to optimize method \"evaluate\" in the passed object:\n",
      "Failed in nopython mode pipeline (step: nopython frontend)\n",
      "\u001b[1m\u001b[1m\u001b[1mInvalid use of BoundFunction(array.astype for array(float32, 1d, C)) with parameters (Function(<class 'int'>))\n",
      "\u001b[0m\n",
      "\u001b[0m\u001b[1mDuring: resolving callee type: BoundFunction(array.astype for array(float32, 1d, C))\u001b[0m\n",
      "\u001b[0m\u001b[1mDuring: typing of call at /tmp/ipykernel_20/3112819310.py (9)\n",
      "\u001b[0m\n",
      "\u001b[1m\n",
      "File \"../../tmp/ipykernel_20/3112819310.py\", line 9:\u001b[0m\n",
      "\u001b[1m<source missing, REPL/exec in use?>\u001b[0m\n",
      "\n",
      "  self._object._train(train_pool, test_pool, params, allow_clear_pool, init_model._object if init_model else None)\n"
     ]
    },
    {
     "name": "stdout",
     "output_type": "stream",
     "text": [
      "0:\tlearn: 7.7961907\ttest: 9.1715888\tbest: 9.1715888 (0)\ttotal: 1.16s\tremaining: 9m 38s\n",
      "Stopped by overfitting detector  (20 iterations wait)\n",
      "\n",
      "bestTest = 5.795323363\n",
      "bestIteration = 6\n",
      "\n",
      "Shrink model to first 7 iterations.\n"
     ]
    },
    {
     "data": {
      "text/plain": [
       "<catboost.core.CatBoostClassifier at 0x786116f3cb80>"
      ]
     },
     "execution_count": 32,
     "metadata": {},
     "output_type": "execute_result"
    }
   ],
   "source": [
    "from catboost import Pool, CatBoostClassifier\n",
    "train_pool = Pool(\n",
    "    X_train, \n",
    "    y_train, \n",
    "    feature_names=list(X_train)\n",
    ")\n",
    "valid_pool = Pool(\n",
    "    X_test, \n",
    "    y_test,\n",
    "    feature_names=list(X_train)\n",
    ")\n",
    "\n",
    "catboost_params = {\n",
    "    'bagging_temperature': 0.5,\n",
    "    'depth': 7,\n",
    "    'iterations': 500,\n",
    "    'learning_rate': 0.01,\n",
    "    'l2_leaf_reg': 25,\n",
    "    'sampling_frequency': 'PerTreeLevel',\n",
    "    'leaf_estimation_method': 'Gradient',\n",
    "    'random_strength': 0.8,\n",
    "    'boosting_type': 'Ordered',\n",
    "    'feature_border_type': 'MaxLogSum',\n",
    "    'l2_leaf_reg': 50,\n",
    "    'max_ctr_complexity': 2,\n",
    "    'fold_len_multiplier': 2,\n",
    "    #'eval_metric': 'Accuracy',\n",
    "     # task_type': 'GPU',\n",
    "    'early_stopping_rounds': 20,\n",
    "    'use_best_model': True,\n",
    "    'verbose': 50\n",
    "}\n",
    "# clas_weight = [5,2]\n",
    "model = CatBoostClassifier(**catboost_params,\n",
    "                           eval_metric=BalancedLogLoss(),\n",
    "                           class_weights=class_weight)\n",
    "model.fit(train_pool, eval_set=valid_pool)"
   ]
  },
  {
   "cell_type": "code",
   "execution_count": 33,
   "id": "ba721526",
   "metadata": {
    "execution": {
     "iopub.execute_input": "2023-08-09T15:48:29.439385Z",
     "iopub.status.busy": "2023-08-09T15:48:29.439001Z",
     "iopub.status.idle": "2023-08-09T15:48:29.465195Z",
     "shell.execute_reply": "2023-08-09T15:48:29.463595Z"
    },
    "papermill": {
     "duration": 0.058037,
     "end_time": "2023-08-09T15:48:29.467753",
     "exception": false,
     "start_time": "2023-08-09T15:48:29.409716",
     "status": "completed"
    },
    "tags": []
   },
   "outputs": [
    {
     "name": "stdout",
     "output_type": "stream",
     "text": [
      "              precision    recall  f1-score   support\n",
      "\n",
      "           0       0.98      0.85      0.91       407\n",
      "           1       0.56      0.93      0.70        86\n",
      "\n",
      "    accuracy                           0.86       493\n",
      "   macro avg       0.77      0.89      0.81       493\n",
      "weighted avg       0.91      0.86      0.87       493\n",
      "\n",
      "0.8620689655172413\n"
     ]
    }
   ],
   "source": [
    "from sklearn.metrics import classification_report,accuracy_score\n",
    "pred_t = model.predict(X_train)\n",
    "print(classification_report(y_train,pred_t))\n",
    "print(accuracy_score(y_train,pred_t))"
   ]
  },
  {
   "cell_type": "code",
   "execution_count": 34,
   "id": "9825ed39",
   "metadata": {
    "execution": {
     "iopub.execute_input": "2023-08-09T15:48:29.524784Z",
     "iopub.status.busy": "2023-08-09T15:48:29.524352Z",
     "iopub.status.idle": "2023-08-09T15:48:29.548419Z",
     "shell.execute_reply": "2023-08-09T15:48:29.547026Z"
    },
    "papermill": {
     "duration": 0.05566,
     "end_time": "2023-08-09T15:48:29.551033",
     "exception": false,
     "start_time": "2023-08-09T15:48:29.495373",
     "status": "completed"
    },
    "tags": []
   },
   "outputs": [
    {
     "name": "stdout",
     "output_type": "stream",
     "text": [
      "              precision    recall  f1-score   support\n",
      "\n",
      "           0       0.97      0.91      0.94       102\n",
      "           1       0.68      0.86      0.76        22\n",
      "\n",
      "    accuracy                           0.90       124\n",
      "   macro avg       0.82      0.89      0.85       124\n",
      "weighted avg       0.92      0.90      0.91       124\n",
      "\n",
      "0.9032258064516129\n"
     ]
    }
   ],
   "source": [
    "from sklearn.metrics import classification_report,accuracy_score\n",
    "pred = model.predict(X_test)\n",
    "print(classification_report(y_test,pred))\n",
    "print(accuracy_score(y_test,pred))"
   ]
  },
  {
   "cell_type": "code",
   "execution_count": 35,
   "id": "8614bcc8",
   "metadata": {
    "execution": {
     "iopub.execute_input": "2023-08-09T15:48:29.608521Z",
     "iopub.status.busy": "2023-08-09T15:48:29.608064Z",
     "iopub.status.idle": "2023-08-09T15:48:29.632258Z",
     "shell.execute_reply": "2023-08-09T15:48:29.630745Z"
    },
    "papermill": {
     "duration": 0.056073,
     "end_time": "2023-08-09T15:48:29.634884",
     "exception": false,
     "start_time": "2023-08-09T15:48:29.578811",
     "status": "completed"
    },
    "tags": []
   },
   "outputs": [
    {
     "name": "stdout",
     "output_type": "stream",
     "text": [
      "----------------------------------------------------------------------------------------------------\n",
      "Accuracy of CB: 0.9032258064516129\n",
      "ROC AUC of CB: 0.9327094474153298\n"
     ]
    }
   ],
   "source": [
    "from sklearn.metrics import accuracy_score,classification_report, recall_score,confusion_matrix, roc_auc_score,precision_score, f1_score, roc_curve, auc\n",
    "print(\"-\"*100)\n",
    "print(\"Accuracy of CB:\",accuracy_score(y_test,model.predict(X_test)))\n",
    "print(\"ROC AUC of CB:\",roc_auc_score(y_test,model.predict_proba(X_test)[:,1]))\n",
    "# print(\"Cross Val Loss:\",-1*np.mean(cross_val_score(model,X,y,cv=5,scoring='neg_log_loss')))"
   ]
  },
  {
   "cell_type": "code",
   "execution_count": null,
   "id": "9113df56",
   "metadata": {
    "papermill": {
     "duration": 0.027919,
     "end_time": "2023-08-09T15:48:29.690848",
     "exception": false,
     "start_time": "2023-08-09T15:48:29.662929",
     "status": "completed"
    },
    "tags": []
   },
   "outputs": [],
   "source": []
  },
  {
   "cell_type": "markdown",
   "id": "815d4465",
   "metadata": {
    "papermill": {
     "duration": 0.027556,
     "end_time": "2023-08-09T15:48:29.746554",
     "exception": false,
     "start_time": "2023-08-09T15:48:29.718998",
     "status": "completed"
    },
    "tags": []
   },
   "source": [
    "## Submission"
   ]
  },
  {
   "cell_type": "code",
   "execution_count": 36,
   "id": "e4f10ad8",
   "metadata": {
    "execution": {
     "iopub.execute_input": "2023-08-09T15:48:29.805346Z",
     "iopub.status.busy": "2023-08-09T15:48:29.804953Z",
     "iopub.status.idle": "2023-08-09T15:48:29.817600Z",
     "shell.execute_reply": "2023-08-09T15:48:29.816259Z"
    },
    "papermill": {
     "duration": 0.045016,
     "end_time": "2023-08-09T15:48:29.820275",
     "exception": false,
     "start_time": "2023-08-09T15:48:29.775259",
     "status": "completed"
    },
    "tags": []
   },
   "outputs": [],
   "source": [
    "test_df = pd.read_csv('/kaggle/input/icr-identify-age-related-conditions/test.csv')"
   ]
  },
  {
   "cell_type": "code",
   "execution_count": 37,
   "id": "12a818e5",
   "metadata": {
    "execution": {
     "iopub.execute_input": "2023-08-09T15:48:29.878923Z",
     "iopub.status.busy": "2023-08-09T15:48:29.878512Z",
     "iopub.status.idle": "2023-08-09T15:48:29.915436Z",
     "shell.execute_reply": "2023-08-09T15:48:29.914364Z"
    },
    "papermill": {
     "duration": 0.069383,
     "end_time": "2023-08-09T15:48:29.918340",
     "exception": false,
     "start_time": "2023-08-09T15:48:29.848957",
     "status": "completed"
    },
    "tags": []
   },
   "outputs": [
    {
     "data": {
      "text/html": [
       "<div>\n",
       "<style scoped>\n",
       "    .dataframe tbody tr th:only-of-type {\n",
       "        vertical-align: middle;\n",
       "    }\n",
       "\n",
       "    .dataframe tbody tr th {\n",
       "        vertical-align: top;\n",
       "    }\n",
       "\n",
       "    .dataframe thead th {\n",
       "        text-align: right;\n",
       "    }\n",
       "</style>\n",
       "<table border=\"1\" class=\"dataframe\">\n",
       "  <thead>\n",
       "    <tr style=\"text-align: right;\">\n",
       "      <th></th>\n",
       "      <th>Id</th>\n",
       "      <th>AB</th>\n",
       "      <th>AF</th>\n",
       "      <th>AH</th>\n",
       "      <th>AM</th>\n",
       "      <th>AR</th>\n",
       "      <th>AX</th>\n",
       "      <th>AY</th>\n",
       "      <th>AZ</th>\n",
       "      <th>BC</th>\n",
       "      <th>...</th>\n",
       "      <th>FI</th>\n",
       "      <th>FL</th>\n",
       "      <th>FR</th>\n",
       "      <th>FS</th>\n",
       "      <th>GB</th>\n",
       "      <th>GE</th>\n",
       "      <th>GF</th>\n",
       "      <th>GH</th>\n",
       "      <th>GI</th>\n",
       "      <th>GL</th>\n",
       "    </tr>\n",
       "  </thead>\n",
       "  <tbody>\n",
       "    <tr>\n",
       "      <th>0</th>\n",
       "      <td>00eed32682bb</td>\n",
       "      <td>0.0</td>\n",
       "      <td>0.0</td>\n",
       "      <td>0.0</td>\n",
       "      <td>0.0</td>\n",
       "      <td>0.0</td>\n",
       "      <td>0.0</td>\n",
       "      <td>0.0</td>\n",
       "      <td>0.0</td>\n",
       "      <td>0.0</td>\n",
       "      <td>...</td>\n",
       "      <td>0.0</td>\n",
       "      <td>0.0</td>\n",
       "      <td>0.0</td>\n",
       "      <td>0.0</td>\n",
       "      <td>0.0</td>\n",
       "      <td>0.0</td>\n",
       "      <td>0.0</td>\n",
       "      <td>0.0</td>\n",
       "      <td>0.0</td>\n",
       "      <td>0.0</td>\n",
       "    </tr>\n",
       "    <tr>\n",
       "      <th>1</th>\n",
       "      <td>010ebe33f668</td>\n",
       "      <td>0.0</td>\n",
       "      <td>0.0</td>\n",
       "      <td>0.0</td>\n",
       "      <td>0.0</td>\n",
       "      <td>0.0</td>\n",
       "      <td>0.0</td>\n",
       "      <td>0.0</td>\n",
       "      <td>0.0</td>\n",
       "      <td>0.0</td>\n",
       "      <td>...</td>\n",
       "      <td>0.0</td>\n",
       "      <td>0.0</td>\n",
       "      <td>0.0</td>\n",
       "      <td>0.0</td>\n",
       "      <td>0.0</td>\n",
       "      <td>0.0</td>\n",
       "      <td>0.0</td>\n",
       "      <td>0.0</td>\n",
       "      <td>0.0</td>\n",
       "      <td>0.0</td>\n",
       "    </tr>\n",
       "    <tr>\n",
       "      <th>2</th>\n",
       "      <td>02fa521e1838</td>\n",
       "      <td>0.0</td>\n",
       "      <td>0.0</td>\n",
       "      <td>0.0</td>\n",
       "      <td>0.0</td>\n",
       "      <td>0.0</td>\n",
       "      <td>0.0</td>\n",
       "      <td>0.0</td>\n",
       "      <td>0.0</td>\n",
       "      <td>0.0</td>\n",
       "      <td>...</td>\n",
       "      <td>0.0</td>\n",
       "      <td>0.0</td>\n",
       "      <td>0.0</td>\n",
       "      <td>0.0</td>\n",
       "      <td>0.0</td>\n",
       "      <td>0.0</td>\n",
       "      <td>0.0</td>\n",
       "      <td>0.0</td>\n",
       "      <td>0.0</td>\n",
       "      <td>0.0</td>\n",
       "    </tr>\n",
       "    <tr>\n",
       "      <th>3</th>\n",
       "      <td>040e15f562a2</td>\n",
       "      <td>0.0</td>\n",
       "      <td>0.0</td>\n",
       "      <td>0.0</td>\n",
       "      <td>0.0</td>\n",
       "      <td>0.0</td>\n",
       "      <td>0.0</td>\n",
       "      <td>0.0</td>\n",
       "      <td>0.0</td>\n",
       "      <td>0.0</td>\n",
       "      <td>...</td>\n",
       "      <td>0.0</td>\n",
       "      <td>0.0</td>\n",
       "      <td>0.0</td>\n",
       "      <td>0.0</td>\n",
       "      <td>0.0</td>\n",
       "      <td>0.0</td>\n",
       "      <td>0.0</td>\n",
       "      <td>0.0</td>\n",
       "      <td>0.0</td>\n",
       "      <td>0.0</td>\n",
       "    </tr>\n",
       "    <tr>\n",
       "      <th>4</th>\n",
       "      <td>046e85c7cc7f</td>\n",
       "      <td>0.0</td>\n",
       "      <td>0.0</td>\n",
       "      <td>0.0</td>\n",
       "      <td>0.0</td>\n",
       "      <td>0.0</td>\n",
       "      <td>0.0</td>\n",
       "      <td>0.0</td>\n",
       "      <td>0.0</td>\n",
       "      <td>0.0</td>\n",
       "      <td>...</td>\n",
       "      <td>0.0</td>\n",
       "      <td>0.0</td>\n",
       "      <td>0.0</td>\n",
       "      <td>0.0</td>\n",
       "      <td>0.0</td>\n",
       "      <td>0.0</td>\n",
       "      <td>0.0</td>\n",
       "      <td>0.0</td>\n",
       "      <td>0.0</td>\n",
       "      <td>0.0</td>\n",
       "    </tr>\n",
       "  </tbody>\n",
       "</table>\n",
       "<p>5 rows × 57 columns</p>\n",
       "</div>"
      ],
      "text/plain": [
       "             Id   AB   AF   AH   AM   AR   AX   AY   AZ   BC  ...   FI   FL  \\\n",
       "0  00eed32682bb  0.0  0.0  0.0  0.0  0.0  0.0  0.0  0.0  0.0  ...  0.0  0.0   \n",
       "1  010ebe33f668  0.0  0.0  0.0  0.0  0.0  0.0  0.0  0.0  0.0  ...  0.0  0.0   \n",
       "2  02fa521e1838  0.0  0.0  0.0  0.0  0.0  0.0  0.0  0.0  0.0  ...  0.0  0.0   \n",
       "3  040e15f562a2  0.0  0.0  0.0  0.0  0.0  0.0  0.0  0.0  0.0  ...  0.0  0.0   \n",
       "4  046e85c7cc7f  0.0  0.0  0.0  0.0  0.0  0.0  0.0  0.0  0.0  ...  0.0  0.0   \n",
       "\n",
       "    FR   FS   GB   GE   GF   GH   GI   GL  \n",
       "0  0.0  0.0  0.0  0.0  0.0  0.0  0.0  0.0  \n",
       "1  0.0  0.0  0.0  0.0  0.0  0.0  0.0  0.0  \n",
       "2  0.0  0.0  0.0  0.0  0.0  0.0  0.0  0.0  \n",
       "3  0.0  0.0  0.0  0.0  0.0  0.0  0.0  0.0  \n",
       "4  0.0  0.0  0.0  0.0  0.0  0.0  0.0  0.0  \n",
       "\n",
       "[5 rows x 57 columns]"
      ]
     },
     "execution_count": 37,
     "metadata": {},
     "output_type": "execute_result"
    }
   ],
   "source": [
    "test_df"
   ]
  },
  {
   "cell_type": "code",
   "execution_count": 38,
   "id": "0648ca87",
   "metadata": {
    "execution": {
     "iopub.execute_input": "2023-08-09T15:48:29.977069Z",
     "iopub.status.busy": "2023-08-09T15:48:29.976619Z",
     "iopub.status.idle": "2023-08-09T15:48:29.984236Z",
     "shell.execute_reply": "2023-08-09T15:48:29.983152Z"
    },
    "papermill": {
     "duration": 0.039541,
     "end_time": "2023-08-09T15:48:29.986564",
     "exception": false,
     "start_time": "2023-08-09T15:48:29.947023",
     "status": "completed"
    },
    "tags": []
   },
   "outputs": [
    {
     "data": {
      "text/plain": [
       "Index(['Id', 'AB', 'AF', 'AH', 'AM', 'AR', 'AX', 'AY', 'AZ', 'BC', 'BD ', 'BN',\n",
       "       'BP', 'BQ', 'BR', 'BZ', 'CB', 'CC', 'CD ', 'CF', 'CH', 'CL', 'CR', 'CS',\n",
       "       'CU', 'CW ', 'DA', 'DE', 'DF', 'DH', 'DI', 'DL', 'DN', 'DU', 'DV', 'DY',\n",
       "       'EB', 'EE', 'EG', 'EH', 'EJ', 'EL', 'EP', 'EU', 'FC', 'FD ', 'FE', 'FI',\n",
       "       'FL', 'FR', 'FS', 'GB', 'GE', 'GF', 'GH', 'GI', 'GL'],\n",
       "      dtype='object')"
      ]
     },
     "execution_count": 38,
     "metadata": {},
     "output_type": "execute_result"
    }
   ],
   "source": [
    "test_df.columns"
   ]
  },
  {
   "cell_type": "code",
   "execution_count": 39,
   "id": "cc0a8a72",
   "metadata": {
    "execution": {
     "iopub.execute_input": "2023-08-09T15:48:30.046163Z",
     "iopub.status.busy": "2023-08-09T15:48:30.045716Z",
     "iopub.status.idle": "2023-08-09T15:48:30.050427Z",
     "shell.execute_reply": "2023-08-09T15:48:30.049394Z"
    },
    "papermill": {
     "duration": 0.037567,
     "end_time": "2023-08-09T15:48:30.052943",
     "exception": false,
     "start_time": "2023-08-09T15:48:30.015376",
     "status": "completed"
    },
    "tags": []
   },
   "outputs": [],
   "source": [
    "#train_feature_selection.columns"
   ]
  },
  {
   "cell_type": "code",
   "execution_count": 40,
   "id": "7f528091",
   "metadata": {
    "execution": {
     "iopub.execute_input": "2023-08-09T15:48:30.113065Z",
     "iopub.status.busy": "2023-08-09T15:48:30.111701Z",
     "iopub.status.idle": "2023-08-09T15:48:30.117041Z",
     "shell.execute_reply": "2023-08-09T15:48:30.116181Z"
    },
    "papermill": {
     "duration": 0.037588,
     "end_time": "2023-08-09T15:48:30.119260",
     "exception": false,
     "start_time": "2023-08-09T15:48:30.081672",
     "status": "completed"
    },
    "tags": []
   },
   "outputs": [],
   "source": [
    "#col_del = test_df.columns.difference(train_feature_selection.columns)\n",
    "#col_del"
   ]
  },
  {
   "cell_type": "code",
   "execution_count": 41,
   "id": "b6a196aa",
   "metadata": {
    "execution": {
     "iopub.execute_input": "2023-08-09T15:48:30.181861Z",
     "iopub.status.busy": "2023-08-09T15:48:30.181479Z",
     "iopub.status.idle": "2023-08-09T15:48:30.186058Z",
     "shell.execute_reply": "2023-08-09T15:48:30.185105Z"
    },
    "papermill": {
     "duration": 0.037923,
     "end_time": "2023-08-09T15:48:30.188351",
     "exception": false,
     "start_time": "2023-08-09T15:48:30.150428",
     "status": "completed"
    },
    "tags": []
   },
   "outputs": [],
   "source": [
    "#test_df.drop(columns =col_del, inplace=True)\n",
    "#test_df.columns"
   ]
  },
  {
   "cell_type": "markdown",
   "id": "3f07e900",
   "metadata": {
    "papermill": {
     "duration": 0.031239,
     "end_time": "2023-08-09T15:48:30.248983",
     "exception": false,
     "start_time": "2023-08-09T15:48:30.217744",
     "status": "completed"
    },
    "tags": []
   },
   "source": [
    "#### KNN imputer data test"
   ]
  },
  {
   "cell_type": "code",
   "execution_count": 42,
   "id": "5b3dbbf8",
   "metadata": {
    "execution": {
     "iopub.execute_input": "2023-08-09T15:48:30.310025Z",
     "iopub.status.busy": "2023-08-09T15:48:30.309232Z",
     "iopub.status.idle": "2023-08-09T15:48:30.456837Z",
     "shell.execute_reply": "2023-08-09T15:48:30.454993Z"
    },
    "papermill": {
     "duration": 0.181429,
     "end_time": "2023-08-09T15:48:30.459524",
     "exception": false,
     "start_time": "2023-08-09T15:48:30.278095",
     "status": "completed"
    },
    "tags": []
   },
   "outputs": [
    {
     "name": "stdout",
     "output_type": "stream",
     "text": [
      "<class 'pandas.core.frame.DataFrame'>\n",
      "RangeIndex: 5 entries, 0 to 4\n",
      "Data columns (total 57 columns):\n",
      " #   Column  Non-Null Count  Dtype  \n",
      "---  ------  --------------  -----  \n",
      " 0   Id      5 non-null      object \n",
      " 1   AB      5 non-null      float64\n",
      " 2   AF      5 non-null      float64\n",
      " 3   AH      5 non-null      float64\n",
      " 4   AM      5 non-null      float64\n",
      " 5   AR      5 non-null      float64\n",
      " 6   AX      5 non-null      float64\n",
      " 7   AY      5 non-null      float64\n",
      " 8   AZ      5 non-null      float64\n",
      " 9   BC      5 non-null      float64\n",
      " 10  BD      5 non-null      float64\n",
      " 11  BN      5 non-null      float64\n",
      " 12  BP      5 non-null      float64\n",
      " 13  BQ      5 non-null      float64\n",
      " 14  BR      5 non-null      float64\n",
      " 15  BZ      5 non-null      float64\n",
      " 16  CB      5 non-null      float64\n",
      " 17  CC      5 non-null      float64\n",
      " 18  CD      5 non-null      float64\n",
      " 19  CF      5 non-null      float64\n",
      " 20  CH      5 non-null      float64\n",
      " 21  CL      5 non-null      float64\n",
      " 22  CR      5 non-null      float64\n",
      " 23  CS      5 non-null      float64\n",
      " 24  CU      5 non-null      float64\n",
      " 25  CW      5 non-null      float64\n",
      " 26  DA      5 non-null      float64\n",
      " 27  DE      5 non-null      float64\n",
      " 28  DF      5 non-null      float64\n",
      " 29  DH      5 non-null      float64\n",
      " 30  DI      5 non-null      float64\n",
      " 31  DL      5 non-null      float64\n",
      " 32  DN      5 non-null      float64\n",
      " 33  DU      5 non-null      float64\n",
      " 34  DV      5 non-null      float64\n",
      " 35  DY      5 non-null      float64\n",
      " 36  EB      5 non-null      float64\n",
      " 37  EE      5 non-null      float64\n",
      " 38  EG      5 non-null      float64\n",
      " 39  EH      5 non-null      float64\n",
      " 40  EJ      5 non-null      object \n",
      " 41  EL      5 non-null      float64\n",
      " 42  EP      5 non-null      float64\n",
      " 43  EU      5 non-null      float64\n",
      " 44  FC      5 non-null      float64\n",
      " 45  FD      5 non-null      float64\n",
      " 46  FE      5 non-null      float64\n",
      " 47  FI      5 non-null      float64\n",
      " 48  FL      5 non-null      float64\n",
      " 49  FR      5 non-null      float64\n",
      " 50  FS      5 non-null      float64\n",
      " 51  GB      5 non-null      float64\n",
      " 52  GE      5 non-null      float64\n",
      " 53  GF      5 non-null      float64\n",
      " 54  GH      5 non-null      float64\n",
      " 55  GI      5 non-null      float64\n",
      " 56  GL      5 non-null      float64\n",
      "dtypes: float64(55), object(2)\n",
      "memory usage: 2.4+ KB\n"
     ]
    }
   ],
   "source": [
    "# Knn imputer for column BQ, FL; DU; GL; AB; AF; AM; BC; BD; BN; BP; BZ\n",
    "# CD; CF; CR; DA; DE; DH; DI; DL\n",
    "# EE; EH; FD; FE; FR; GF\n",
    "\n",
    "# We choose features which we assume is related to column, the highest correlation\n",
    "imp_bq = test_df[['BQ', 'AB', 'AF', 'AM', 'AR', 'AX', 'BP', 'CD ', 'CF', 'CH', 'DI', 'DN', 'EB', 'FL', 'GL']]\n",
    "imp_fl = test_df[['FL', 'DU', 'EH', 'FD ', 'GL', 'DF', 'AM', 'GH', 'BQ']]\n",
    "imp_du = test_df[['DU', 'EH', 'FD ', 'FL', 'GL', 'EE', 'BQ', 'BN', 'AF', 'DN']]\n",
    "imp_gl = test_df[['GL', 'GF', 'FL', 'EL', 'BQ', 'DU', 'DY', 'EE']]\n",
    "imp_ab = test_df[['AB','AM', 'AX', 'CD ', 'CH', 'BP', 'BZ', 'AF', 'DI']]\n",
    "\n",
    "imp_af = test_df[['AF','AB', 'DI', 'BQ', 'DN', 'AX', 'BP', 'AZ']]\n",
    "imp_am = test_df[['AM', 'AB','AB', 'CF', 'DI', 'BZ', 'BC', 'DF', 'BD ', 'BQ', 'DA', 'CH']]\n",
    "imp_bc = test_df[['BC', 'BZ', 'BD ', 'CF', 'CC', 'GB', 'AH', 'AB', 'AM']]\n",
    "imp_bd = test_df[['BD ', 'BC', 'BZ', 'AY', 'GB', 'CF', 'CC']]\n",
    "imp_bn = test_df[['BN', 'AB', 'GB', 'CH', 'FC', 'AM', 'BP', 'BD ', 'AX', 'EB']]\n",
    "\n",
    "imp_bp = test_df[['BP', 'AX', 'AB', 'EB', 'DI', 'CH', 'CS', 'AF', 'AH']]\n",
    "imp_bz = test_df[['BZ', 'BC', 'BD ', 'CF', 'CC', 'GB', 'AH', 'AB', 'AM', 'EB']]\n",
    "imp_cd = test_df[['CD ', 'AB', 'CH', 'AM', 'AX', 'CR', 'BQ', 'DI', 'DN']]\n",
    "imp_cf = test_df[['CF', 'BC', 'BZ', 'BD ', 'AM', 'CC', 'AB', 'GB', 'BQ']]\n",
    "imp_cr = test_df[['CR', 'CD ', 'GH', 'AR', 'FI', 'EL', 'CB', 'EE', 'DL', 'CL']]\n",
    "\n",
    "imp_da = test_df[['DA', 'CS', 'DV', 'CL', 'EB', 'EP', 'AR', 'AH', 'AM']]\n",
    "imp_de = test_df[['DE', 'EE', 'DA', 'CL', 'DV', 'AH', 'FE']]\n",
    "imp_dh = test_df[['DH', 'CU', 'DL', 'DV', 'AB', 'AM', 'CS', 'CL', 'DA']]\n",
    "imp_di = test_df[['DI', 'GI', 'AM', 'AB', 'AF', 'AR', 'BP', 'DF', 'EB', 'CH']]\n",
    "imp_dl = test_df[['DL', 'CU', 'DH', 'GI', 'GE', 'AB', 'DY', 'CR', 'DN']]\n",
    "\n",
    "imp_ee = test_df[['EE', 'DE', 'DV', 'CH', 'CL', 'AH', 'AR', 'CS', 'DA', 'GL']]\n",
    "imp_eh = test_df[['EH', 'FD ', 'DU', 'FL', 'BQ', 'GL', 'DN', 'AF']]\n",
    "imp_fd = test_df[['FD ', 'EH', 'DU', 'FL', 'BQ', 'DN']]\n",
    "imp_fe = test_df[['FE', 'EL', 'DI', 'DE', 'EE', 'CR', 'GL', 'AF']]\n",
    "imp_fr = test_df[['FR', 'CC', 'CR', 'DH', 'EE', 'BN', 'DE', 'BC', 'DA', 'DY', 'GL', 'GF', 'GI']]\n",
    "imp_gf = test_df[['GF', 'GL', 'AZ', 'DA', 'FL', 'AF', 'BQ', 'CW ', 'GB', 'DL']]\n",
    "\n",
    "list_corr_column = [imp_bq, imp_fl, imp_du, imp_gl, imp_ab, imp_af, imp_am, imp_bc, imp_bd, imp_bn, \n",
    "                    imp_bp, imp_bz, imp_cd, imp_cf, imp_cr, imp_da, imp_de, imp_dh, imp_di, imp_dl, imp_ee, \n",
    "                    imp_eh, imp_fd, imp_fe, imp_fr, imp_gf]\n",
    "\n",
    "\n",
    "# value n_neighbor for KNNImputer for column BQ, FL; DU; GL; \n",
    "#AB; AF, AM; BC; BD; BN; BP; BZ\n",
    "#CD; CR, DA; DE; DH; DI; DL\n",
    "#EE, EH; FD; FE; FR; GF\n",
    "neigh = [5, 5, 3, 4, 3, 3, 4, 3, 3, 4, \n",
    "         4, 4, 4, 3, 4, 3, 3, 3, 4, 3,  \n",
    "         4, 3, 3, 3, 4, 3]\n",
    "\n",
    "\n",
    "# list for indexing\n",
    "list_index = [imp_bq['BQ'], imp_fl['FL'], imp_du['DU'], imp_gl['GL'], imp_ab['AB'], \n",
    "              imp_af['AF'], imp_am['AM'], imp_bc['BC'], imp_bd['BD '], imp_bn['BN'], \n",
    "              imp_bp['BP'], imp_bz['BZ'], imp_cd['CD '], imp_cf['CF'], imp_cr['CR'], \n",
    "              imp_da['DA'], imp_de['DE'], imp_dh['DH'], imp_di['DI'], imp_dl['DL'],\n",
    "              imp_ee['EE'], imp_eh['EH'], imp_fd['FD '], imp_fe['FE'], imp_fr['FR'], imp_gf['GF']]\n",
    "\n",
    "\n",
    "list_ms = []\n",
    "# looping for fill missing values in columns\n",
    "for i in range(len(neigh)):\n",
    "    imputer = KNNImputer(n_neighbors=neigh[i],weights='distance')\n",
    "    imp_filled = imputer.fit_transform(list_corr_column[i])\n",
    "    imp_filled = pd.DataFrame(imp_filled, columns=list_corr_column[i].columns)\n",
    "    list_ms.append(imp_filled[imp_filled.columns[0]])\n",
    "\n",
    "test_df['BQ'] = list_ms[0]\n",
    "test_df['FL'] = list_ms[1]\n",
    "test_df['DU'] = list_ms[2]\n",
    "test_df['GL'] = list_ms[3]\n",
    "test_df['AB'] = list_ms[4]\n",
    "test_df['AF'] = list_ms[5]\n",
    "test_df['AM'] = list_ms[6]\n",
    "test_df['BC'] = list_ms[7]\n",
    "test_df['BD '] = list_ms[8]\n",
    "test_df['BN'] = list_ms[9]\n",
    "\n",
    "\n",
    "test_df['BP'] = list_ms[10]\n",
    "test_df['BZ'] = list_ms[11]\n",
    "test_df['CD '] = list_ms[12]\n",
    "test_df['CF'] = list_ms[13]\n",
    "test_df['CR'] = list_ms[14]\n",
    "test_df['DA'] = list_ms[15]\n",
    "test_df['DE'] = list_ms[16]\n",
    "test_df['DH'] = list_ms[17]\n",
    "test_df['DI'] = list_ms[18]\n",
    "test_df['DL'] = list_ms[19]\n",
    "\n",
    "test_df['EE'] = list_ms[20]\n",
    "test_df['EH'] = list_ms[21]\n",
    "test_df['FD '] = list_ms[22]\n",
    "test_df['FE'] = list_ms[23]\n",
    "test_df['FR'] = list_ms[24]\n",
    "test_df['GF'] = list_ms[25]\n",
    "    \n",
    "test_df.info()"
   ]
  },
  {
   "cell_type": "markdown",
   "id": "21412ae0",
   "metadata": {
    "papermill": {
     "duration": 0.028168,
     "end_time": "2023-08-09T15:48:30.516428",
     "exception": false,
     "start_time": "2023-08-09T15:48:30.488260",
     "status": "completed"
    },
    "tags": []
   },
   "source": [
    "#### Feature Selection"
   ]
  },
  {
   "cell_type": "code",
   "execution_count": 43,
   "id": "0785bcbe",
   "metadata": {
    "execution": {
     "iopub.execute_input": "2023-08-09T15:48:30.575280Z",
     "iopub.status.busy": "2023-08-09T15:48:30.574850Z",
     "iopub.status.idle": "2023-08-09T15:48:30.584989Z",
     "shell.execute_reply": "2023-08-09T15:48:30.583848Z"
    },
    "papermill": {
     "duration": 0.042112,
     "end_time": "2023-08-09T15:48:30.587209",
     "exception": false,
     "start_time": "2023-08-09T15:48:30.545097",
     "status": "completed"
    },
    "tags": []
   },
   "outputs": [
    {
     "data": {
      "text/plain": [
       "Index(['Id', 'AB', 'AF', 'AM', 'BC', 'BD ', 'BN', 'BP', 'BQ', 'BZ', 'CD ',\n",
       "       'CF', 'CR', 'DA', 'DE', 'DH', 'DI', 'DL', 'DU', 'EE', 'EH', 'FD ', 'FE',\n",
       "       'FL', 'FR', 'GF', 'GL'],\n",
       "      dtype='object')"
      ]
     },
     "execution_count": 43,
     "metadata": {},
     "output_type": "execute_result"
    }
   ],
   "source": [
    "col_del = test_df.columns.difference(train_feature_selection.columns)\n",
    "test_df.drop(columns =col_del, inplace=True)\n",
    "test_df.columns"
   ]
  },
  {
   "cell_type": "code",
   "execution_count": 44,
   "id": "9a64fee0",
   "metadata": {
    "execution": {
     "iopub.execute_input": "2023-08-09T15:48:30.647266Z",
     "iopub.status.busy": "2023-08-09T15:48:30.646150Z",
     "iopub.status.idle": "2023-08-09T15:48:30.654143Z",
     "shell.execute_reply": "2023-08-09T15:48:30.652952Z"
    },
    "papermill": {
     "duration": 0.040701,
     "end_time": "2023-08-09T15:48:30.656457",
     "exception": false,
     "start_time": "2023-08-09T15:48:30.615756",
     "status": "completed"
    },
    "tags": []
   },
   "outputs": [
    {
     "data": {
      "text/plain": [
       "Index(['Id', 'AB', 'AF', 'AM', 'BC', 'BD ', 'BN', 'BP', 'BQ', 'BZ', 'CD ',\n",
       "       'CF', 'CR', 'DA', 'DE', 'DH', 'DI', 'DL', 'DU', 'EE', 'EH', 'FD ', 'FE',\n",
       "       'FL', 'FR', 'GF', 'GL', 'Class'],\n",
       "      dtype='object')"
      ]
     },
     "execution_count": 44,
     "metadata": {},
     "output_type": "execute_result"
    }
   ],
   "source": [
    "df.columns"
   ]
  },
  {
   "cell_type": "code",
   "execution_count": 45,
   "id": "87f9b57e",
   "metadata": {
    "execution": {
     "iopub.execute_input": "2023-08-09T15:48:30.716368Z",
     "iopub.status.busy": "2023-08-09T15:48:30.715470Z",
     "iopub.status.idle": "2023-08-09T15:48:30.725121Z",
     "shell.execute_reply": "2023-08-09T15:48:30.723986Z"
    },
    "papermill": {
     "duration": 0.041969,
     "end_time": "2023-08-09T15:48:30.727224",
     "exception": false,
     "start_time": "2023-08-09T15:48:30.685255",
     "status": "completed"
    },
    "tags": []
   },
   "outputs": [
    {
     "data": {
      "text/plain": [
       "Index(['AB', 'AF', 'AM', 'BC', 'BD ', 'BN', 'BP', 'BQ', 'BZ', 'CD ', 'CF',\n",
       "       'CR', 'DA', 'DE', 'DH', 'DI', 'DL', 'DU', 'EE', 'EH', 'FD ', 'FE', 'FL',\n",
       "       'FR', 'GF', 'GL'],\n",
       "      dtype='object')"
      ]
     },
     "execution_count": 45,
     "metadata": {},
     "output_type": "execute_result"
    }
   ],
   "source": [
    "FEATURE_COLUMNS = test_df.drop(columns=['Id']).columns\n",
    "FEATURE_COLUMNS "
   ]
  },
  {
   "cell_type": "code",
   "execution_count": 46,
   "id": "01f9bda2",
   "metadata": {
    "execution": {
     "iopub.execute_input": "2023-08-09T15:48:30.788014Z",
     "iopub.status.busy": "2023-08-09T15:48:30.786818Z",
     "iopub.status.idle": "2023-08-09T15:48:30.802134Z",
     "shell.execute_reply": "2023-08-09T15:48:30.801098Z"
    },
    "papermill": {
     "duration": 0.048381,
     "end_time": "2023-08-09T15:48:30.804880",
     "exception": false,
     "start_time": "2023-08-09T15:48:30.756499",
     "status": "completed"
    },
    "tags": []
   },
   "outputs": [],
   "source": [
    "test_ds_pd = test_df.drop(columns=['Id'])\n",
    "preds = model.predict_proba(test_ds_pd)"
   ]
  },
  {
   "cell_type": "code",
   "execution_count": 47,
   "id": "b50a9dd0",
   "metadata": {
    "execution": {
     "iopub.execute_input": "2023-08-09T15:48:30.866265Z",
     "iopub.status.busy": "2023-08-09T15:48:30.865843Z",
     "iopub.status.idle": "2023-08-09T15:48:30.881019Z",
     "shell.execute_reply": "2023-08-09T15:48:30.879867Z"
    },
    "papermill": {
     "duration": 0.049041,
     "end_time": "2023-08-09T15:48:30.883417",
     "exception": false,
     "start_time": "2023-08-09T15:48:30.834376",
     "status": "completed"
    },
    "tags": []
   },
   "outputs": [
    {
     "data": {
      "text/html": [
       "<div>\n",
       "<style scoped>\n",
       "    .dataframe tbody tr th:only-of-type {\n",
       "        vertical-align: middle;\n",
       "    }\n",
       "\n",
       "    .dataframe tbody tr th {\n",
       "        vertical-align: top;\n",
       "    }\n",
       "\n",
       "    .dataframe thead th {\n",
       "        text-align: right;\n",
       "    }\n",
       "</style>\n",
       "<table border=\"1\" class=\"dataframe\">\n",
       "  <thead>\n",
       "    <tr style=\"text-align: right;\">\n",
       "      <th></th>\n",
       "      <th>Id</th>\n",
       "      <th>class_0</th>\n",
       "      <th>class_1</th>\n",
       "    </tr>\n",
       "  </thead>\n",
       "  <tbody>\n",
       "    <tr>\n",
       "      <th>0</th>\n",
       "      <td>00eed32682bb</td>\n",
       "      <td>0.515376</td>\n",
       "      <td>0.484624</td>\n",
       "    </tr>\n",
       "    <tr>\n",
       "      <th>1</th>\n",
       "      <td>010ebe33f668</td>\n",
       "      <td>0.515376</td>\n",
       "      <td>0.484624</td>\n",
       "    </tr>\n",
       "    <tr>\n",
       "      <th>2</th>\n",
       "      <td>02fa521e1838</td>\n",
       "      <td>0.515376</td>\n",
       "      <td>0.484624</td>\n",
       "    </tr>\n",
       "    <tr>\n",
       "      <th>3</th>\n",
       "      <td>040e15f562a2</td>\n",
       "      <td>0.515376</td>\n",
       "      <td>0.484624</td>\n",
       "    </tr>\n",
       "    <tr>\n",
       "      <th>4</th>\n",
       "      <td>046e85c7cc7f</td>\n",
       "      <td>0.515376</td>\n",
       "      <td>0.484624</td>\n",
       "    </tr>\n",
       "  </tbody>\n",
       "</table>\n",
       "</div>"
      ],
      "text/plain": [
       "             Id   class_0   class_1\n",
       "0  00eed32682bb  0.515376  0.484624\n",
       "1  010ebe33f668  0.515376  0.484624\n",
       "2  02fa521e1838  0.515376  0.484624\n",
       "3  040e15f562a2  0.515376  0.484624\n",
       "4  046e85c7cc7f  0.515376  0.484624"
      ]
     },
     "execution_count": 47,
     "metadata": {},
     "output_type": "execute_result"
    }
   ],
   "source": [
    "df_predict = pd.DataFrame(data=test_df.Id,columns=['Id'])\n",
    "df_predict[\"class_0\"] = preds[:,0]\n",
    "df_predict[\"class_1\"] = preds[:,1]\n",
    "df_predict"
   ]
  },
  {
   "cell_type": "code",
   "execution_count": 48,
   "id": "613d1bc1",
   "metadata": {
    "execution": {
     "iopub.execute_input": "2023-08-09T15:48:30.944163Z",
     "iopub.status.busy": "2023-08-09T15:48:30.943756Z",
     "iopub.status.idle": "2023-08-09T15:48:30.951180Z",
     "shell.execute_reply": "2023-08-09T15:48:30.950367Z"
    },
    "papermill": {
     "duration": 0.040802,
     "end_time": "2023-08-09T15:48:30.953592",
     "exception": false,
     "start_time": "2023-08-09T15:48:30.912790",
     "status": "completed"
    },
    "tags": []
   },
   "outputs": [],
   "source": [
    "# Save the result as the submission\n",
    "df_predict.to_csv(\"submission.csv\",index=False)"
   ]
  },
  {
   "cell_type": "code",
   "execution_count": null,
   "id": "773d4973",
   "metadata": {
    "papermill": {
     "duration": 0.029482,
     "end_time": "2023-08-09T15:48:31.012394",
     "exception": false,
     "start_time": "2023-08-09T15:48:30.982912",
     "status": "completed"
    },
    "tags": []
   },
   "outputs": [],
   "source": []
  },
  {
   "cell_type": "code",
   "execution_count": null,
   "id": "e29b8ed7",
   "metadata": {
    "papermill": {
     "duration": 0.02943,
     "end_time": "2023-08-09T15:48:31.071098",
     "exception": false,
     "start_time": "2023-08-09T15:48:31.041668",
     "status": "completed"
    },
    "tags": []
   },
   "outputs": [],
   "source": []
  },
  {
   "cell_type": "code",
   "execution_count": null,
   "id": "551f6f60",
   "metadata": {
    "papermill": {
     "duration": 0.028851,
     "end_time": "2023-08-09T15:48:31.128967",
     "exception": false,
     "start_time": "2023-08-09T15:48:31.100116",
     "status": "completed"
    },
    "tags": []
   },
   "outputs": [],
   "source": []
  },
  {
   "cell_type": "code",
   "execution_count": null,
   "id": "20d2e4bd",
   "metadata": {
    "papermill": {
     "duration": 0.028894,
     "end_time": "2023-08-09T15:48:31.188692",
     "exception": false,
     "start_time": "2023-08-09T15:48:31.159798",
     "status": "completed"
    },
    "tags": []
   },
   "outputs": [],
   "source": []
  },
  {
   "cell_type": "code",
   "execution_count": null,
   "id": "a74d7d09",
   "metadata": {
    "papermill": {
     "duration": 0.029018,
     "end_time": "2023-08-09T15:48:31.247072",
     "exception": false,
     "start_time": "2023-08-09T15:48:31.218054",
     "status": "completed"
    },
    "tags": []
   },
   "outputs": [],
   "source": []
  },
  {
   "cell_type": "code",
   "execution_count": null,
   "id": "7d3d6419",
   "metadata": {
    "papermill": {
     "duration": 0.028879,
     "end_time": "2023-08-09T15:48:31.305196",
     "exception": false,
     "start_time": "2023-08-09T15:48:31.276317",
     "status": "completed"
    },
    "tags": []
   },
   "outputs": [],
   "source": []
  },
  {
   "cell_type": "code",
   "execution_count": null,
   "id": "33d7821e",
   "metadata": {
    "papermill": {
     "duration": 0.028973,
     "end_time": "2023-08-09T15:48:31.363171",
     "exception": false,
     "start_time": "2023-08-09T15:48:31.334198",
     "status": "completed"
    },
    "tags": []
   },
   "outputs": [],
   "source": []
  },
  {
   "cell_type": "code",
   "execution_count": null,
   "id": "95200f19",
   "metadata": {
    "papermill": {
     "duration": 0.029441,
     "end_time": "2023-08-09T15:48:31.421870",
     "exception": false,
     "start_time": "2023-08-09T15:48:31.392429",
     "status": "completed"
    },
    "tags": []
   },
   "outputs": [],
   "source": []
  }
 ],
 "metadata": {
  "kernelspec": {
   "display_name": "Python 3",
   "language": "python",
   "name": "python3"
  },
  "language_info": {
   "codemirror_mode": {
    "name": "ipython",
    "version": 3
   },
   "file_extension": ".py",
   "mimetype": "text/x-python",
   "name": "python",
   "nbconvert_exporter": "python",
   "pygments_lexer": "ipython3",
   "version": "3.10.12"
  },
  "papermill": {
   "default_parameters": {},
   "duration": 26.467321,
   "end_time": "2023-08-09T15:48:32.775112",
   "environment_variables": {},
   "exception": null,
   "input_path": "__notebook__.ipynb",
   "output_path": "__notebook__.ipynb",
   "parameters": {},
   "start_time": "2023-08-09T15:48:06.307791",
   "version": "2.4.0"
  }
 },
 "nbformat": 4,
 "nbformat_minor": 5
}
